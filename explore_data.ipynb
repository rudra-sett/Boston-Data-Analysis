{
 "cells": [
  {
   "cell_type": "code",
   "execution_count": 1,
   "metadata": {},
   "outputs": [],
   "source": [
    "#from mpl_toolkits.basemap import Basemap\n",
    "from matplotlib import pyplot as plt\n",
    "import pandas as pd\n",
    "import sklearn"
   ]
  },
  {
   "cell_type": "code",
   "execution_count": 2,
   "metadata": {},
   "outputs": [],
   "source": [
    "data = pd.read_csv(\"property assessment 2022.csv\")"
   ]
  },
  {
   "cell_type": "markdown",
   "metadata": {},
   "source": [
    "differences between properties: \n",
    "neighborhood, price/quality correlations, correlations between features of property and price\n",
    "segmentation, cluster analysis"
   ]
  },
  {
   "cell_type": "code",
   "execution_count": 3,
   "metadata": {},
   "outputs": [
    {
     "data": {
      "text/html": [
       "<div>\n",
       "<style scoped>\n",
       "    .dataframe tbody tr th:only-of-type {\n",
       "        vertical-align: middle;\n",
       "    }\n",
       "\n",
       "    .dataframe tbody tr th {\n",
       "        vertical-align: top;\n",
       "    }\n",
       "\n",
       "    .dataframe thead th {\n",
       "        text-align: right;\n",
       "    }\n",
       "</style>\n",
       "<table border=\"1\" class=\"dataframe\">\n",
       "  <thead>\n",
       "    <tr style=\"text-align: right;\">\n",
       "      <th></th>\n",
       "      <th>PID</th>\n",
       "      <th>CM_ID</th>\n",
       "      <th>GIS_ID</th>\n",
       "      <th>ST_NUM</th>\n",
       "      <th>ST_NAME</th>\n",
       "      <th>UNIT_NUM</th>\n",
       "      <th>CITY</th>\n",
       "      <th>ZIPCODE</th>\n",
       "      <th>BLDG_SEQ</th>\n",
       "      <th>NUM_BLDGS</th>\n",
       "      <th>...</th>\n",
       "      <th>KITCHEN_STYLE2</th>\n",
       "      <th>KITCHEN_STYLE3</th>\n",
       "      <th>HEAT_TYPE</th>\n",
       "      <th>HEAT_FUEL</th>\n",
       "      <th>AC_TYPE</th>\n",
       "      <th>FIRE_PLACE</th>\n",
       "      <th>ORIENTATION</th>\n",
       "      <th>NUM_PARKING</th>\n",
       "      <th>PROP_VIEW</th>\n",
       "      <th>CORNER_UNIT</th>\n",
       "    </tr>\n",
       "  </thead>\n",
       "  <tbody>\n",
       "    <tr>\n",
       "      <th>0</th>\n",
       "      <td>100001000</td>\n",
       "      <td></td>\n",
       "      <td>1.000010e+08</td>\n",
       "      <td>104 A 104</td>\n",
       "      <td>PUTNAM ST</td>\n",
       "      <td>NaN</td>\n",
       "      <td>EAST BOSTON</td>\n",
       "      <td>2128</td>\n",
       "      <td>1.0</td>\n",
       "      <td>1</td>\n",
       "      <td>...</td>\n",
       "      <td>S - Semi-Modern</td>\n",
       "      <td>S - Semi-Modern</td>\n",
       "      <td>W - Ht Water/Steam</td>\n",
       "      <td>NaN</td>\n",
       "      <td>N - None</td>\n",
       "      <td>0</td>\n",
       "      <td>NaN</td>\n",
       "      <td>3</td>\n",
       "      <td>A - Average</td>\n",
       "      <td>NaN</td>\n",
       "    </tr>\n",
       "    <tr>\n",
       "      <th>1</th>\n",
       "      <td>100002000</td>\n",
       "      <td></td>\n",
       "      <td>1.000020e+08</td>\n",
       "      <td>197</td>\n",
       "      <td>LEXINGTON ST</td>\n",
       "      <td>NaN</td>\n",
       "      <td>EAST BOSTON</td>\n",
       "      <td>2128</td>\n",
       "      <td>1.0</td>\n",
       "      <td>1</td>\n",
       "      <td>...</td>\n",
       "      <td>M - Modern</td>\n",
       "      <td>M - Modern</td>\n",
       "      <td>F - Forced Hot Air</td>\n",
       "      <td>NaN</td>\n",
       "      <td>C - Central AC</td>\n",
       "      <td>0</td>\n",
       "      <td>NaN</td>\n",
       "      <td>0</td>\n",
       "      <td>A - Average</td>\n",
       "      <td>NaN</td>\n",
       "    </tr>\n",
       "    <tr>\n",
       "      <th>2</th>\n",
       "      <td>100003000</td>\n",
       "      <td></td>\n",
       "      <td>1.000030e+08</td>\n",
       "      <td>199</td>\n",
       "      <td>LEXINGTON ST</td>\n",
       "      <td>NaN</td>\n",
       "      <td>EAST BOSTON</td>\n",
       "      <td>2128</td>\n",
       "      <td>1.0</td>\n",
       "      <td>1</td>\n",
       "      <td>...</td>\n",
       "      <td>S - Semi-Modern</td>\n",
       "      <td>S - Semi-Modern</td>\n",
       "      <td>S - Space Heat</td>\n",
       "      <td>NaN</td>\n",
       "      <td>N - None</td>\n",
       "      <td>0</td>\n",
       "      <td>NaN</td>\n",
       "      <td>0</td>\n",
       "      <td>A - Average</td>\n",
       "      <td>NaN</td>\n",
       "    </tr>\n",
       "    <tr>\n",
       "      <th>3</th>\n",
       "      <td>100004000</td>\n",
       "      <td></td>\n",
       "      <td>1.000040e+08</td>\n",
       "      <td>201</td>\n",
       "      <td>LEXINGTON ST</td>\n",
       "      <td>NaN</td>\n",
       "      <td>EAST BOSTON</td>\n",
       "      <td>2128</td>\n",
       "      <td>1.0</td>\n",
       "      <td>1</td>\n",
       "      <td>...</td>\n",
       "      <td>S - Semi-Modern</td>\n",
       "      <td>S - Semi-Modern</td>\n",
       "      <td>W - Ht Water/Steam</td>\n",
       "      <td>NaN</td>\n",
       "      <td>N - None</td>\n",
       "      <td>0</td>\n",
       "      <td>NaN</td>\n",
       "      <td>0</td>\n",
       "      <td>A - Average</td>\n",
       "      <td>NaN</td>\n",
       "    </tr>\n",
       "    <tr>\n",
       "      <th>4</th>\n",
       "      <td>100005000</td>\n",
       "      <td></td>\n",
       "      <td>1.000050e+08</td>\n",
       "      <td>203</td>\n",
       "      <td>LEXINGTON ST</td>\n",
       "      <td>NaN</td>\n",
       "      <td>EAST BOSTON</td>\n",
       "      <td>2128</td>\n",
       "      <td>1.0</td>\n",
       "      <td>1</td>\n",
       "      <td>...</td>\n",
       "      <td>S - Semi-Modern</td>\n",
       "      <td>NaN</td>\n",
       "      <td>W - Ht Water/Steam</td>\n",
       "      <td>NaN</td>\n",
       "      <td>N - None</td>\n",
       "      <td>0</td>\n",
       "      <td>NaN</td>\n",
       "      <td>0</td>\n",
       "      <td>A - Average</td>\n",
       "      <td>NaN</td>\n",
       "    </tr>\n",
       "    <tr>\n",
       "      <th>...</th>\n",
       "      <td>...</td>\n",
       "      <td>...</td>\n",
       "      <td>...</td>\n",
       "      <td>...</td>\n",
       "      <td>...</td>\n",
       "      <td>...</td>\n",
       "      <td>...</td>\n",
       "      <td>...</td>\n",
       "      <td>...</td>\n",
       "      <td>...</td>\n",
       "      <td>...</td>\n",
       "      <td>...</td>\n",
       "      <td>...</td>\n",
       "      <td>...</td>\n",
       "      <td>...</td>\n",
       "      <td>...</td>\n",
       "      <td>...</td>\n",
       "      <td>...</td>\n",
       "      <td>...</td>\n",
       "      <td>...</td>\n",
       "      <td>...</td>\n",
       "    </tr>\n",
       "    <tr>\n",
       "      <th>178593</th>\n",
       "      <td>2205666000</td>\n",
       "      <td></td>\n",
       "      <td>2.205666e+09</td>\n",
       "      <td></td>\n",
       "      <td>KNOWLES ST</td>\n",
       "      <td>NaN</td>\n",
       "      <td>BRIGHTON</td>\n",
       "      <td>2135</td>\n",
       "      <td>1.0</td>\n",
       "      <td>1</td>\n",
       "      <td>...</td>\n",
       "      <td>NaN</td>\n",
       "      <td>NaN</td>\n",
       "      <td>NaN</td>\n",
       "      <td>NaN</td>\n",
       "      <td>NaN</td>\n",
       "      <td>0</td>\n",
       "      <td>NaN</td>\n",
       "      <td>0</td>\n",
       "      <td>NaN</td>\n",
       "      <td>NaN</td>\n",
       "    </tr>\n",
       "    <tr>\n",
       "      <th>178594</th>\n",
       "      <td>2205667000</td>\n",
       "      <td></td>\n",
       "      <td>2.205667e+09</td>\n",
       "      <td></td>\n",
       "      <td>LAKE ST</td>\n",
       "      <td>NaN</td>\n",
       "      <td>BRIGHTON</td>\n",
       "      <td>2135</td>\n",
       "      <td>1.0</td>\n",
       "      <td>1</td>\n",
       "      <td>...</td>\n",
       "      <td>NaN</td>\n",
       "      <td>NaN</td>\n",
       "      <td>NaN</td>\n",
       "      <td>NaN</td>\n",
       "      <td>NaN</td>\n",
       "      <td>0</td>\n",
       "      <td>NaN</td>\n",
       "      <td>0</td>\n",
       "      <td>NaN</td>\n",
       "      <td>NaN</td>\n",
       "    </tr>\n",
       "    <tr>\n",
       "      <th>178595</th>\n",
       "      <td>2205668000</td>\n",
       "      <td></td>\n",
       "      <td>2.205668e+09</td>\n",
       "      <td>4</td>\n",
       "      <td>LAKE ST</td>\n",
       "      <td>NaN</td>\n",
       "      <td>BRIGHTON</td>\n",
       "      <td>2135</td>\n",
       "      <td>1.0</td>\n",
       "      <td>1</td>\n",
       "      <td>...</td>\n",
       "      <td>M - Modern</td>\n",
       "      <td>M - Modern</td>\n",
       "      <td>W - Ht Water/Steam</td>\n",
       "      <td>NaN</td>\n",
       "      <td>N - None</td>\n",
       "      <td>0</td>\n",
       "      <td>NaN</td>\n",
       "      <td>2</td>\n",
       "      <td>A - Average</td>\n",
       "      <td>NaN</td>\n",
       "    </tr>\n",
       "    <tr>\n",
       "      <th>178596</th>\n",
       "      <td>2205669000</td>\n",
       "      <td></td>\n",
       "      <td>2.205669e+09</td>\n",
       "      <td>2193  2201</td>\n",
       "      <td>COMMONWEALTH AV</td>\n",
       "      <td>NaN</td>\n",
       "      <td>BRIGHTON</td>\n",
       "      <td>2135</td>\n",
       "      <td>1.0</td>\n",
       "      <td>1</td>\n",
       "      <td>...</td>\n",
       "      <td>NaN</td>\n",
       "      <td>NaN</td>\n",
       "      <td>NaN</td>\n",
       "      <td>NaN</td>\n",
       "      <td>NaN</td>\n",
       "      <td>0</td>\n",
       "      <td>NaN</td>\n",
       "      <td>0</td>\n",
       "      <td>NaN</td>\n",
       "      <td>NaN</td>\n",
       "    </tr>\n",
       "    <tr>\n",
       "      <th>178597</th>\n",
       "      <td>2205670000</td>\n",
       "      <td></td>\n",
       "      <td>2.205670e+09</td>\n",
       "      <td>2203</td>\n",
       "      <td>COMMONWEALTH AV</td>\n",
       "      <td>NaN</td>\n",
       "      <td>BRIGHTON</td>\n",
       "      <td>2135</td>\n",
       "      <td>1.0</td>\n",
       "      <td>3</td>\n",
       "      <td>...</td>\n",
       "      <td>NaN</td>\n",
       "      <td>NaN</td>\n",
       "      <td>NaN</td>\n",
       "      <td>NaN</td>\n",
       "      <td>NaN</td>\n",
       "      <td>0</td>\n",
       "      <td>NaN</td>\n",
       "      <td>0</td>\n",
       "      <td>NaN</td>\n",
       "      <td>NaN</td>\n",
       "    </tr>\n",
       "  </tbody>\n",
       "</table>\n",
       "<p>178598 rows × 64 columns</p>\n",
       "</div>"
      ],
      "text/plain": [
       "               PID CM_ID        GIS_ID      ST_NUM          ST_NAME UNIT_NUM  \\\n",
       "0        100001000        1.000010e+08  104 A 104         PUTNAM ST      NaN   \n",
       "1        100002000        1.000020e+08       197       LEXINGTON ST      NaN   \n",
       "2        100003000        1.000030e+08       199       LEXINGTON ST      NaN   \n",
       "3        100004000        1.000040e+08       201       LEXINGTON ST      NaN   \n",
       "4        100005000        1.000050e+08       203       LEXINGTON ST      NaN   \n",
       "...            ...   ...           ...         ...              ...      ...   \n",
       "178593  2205666000        2.205666e+09                   KNOWLES ST      NaN   \n",
       "178594  2205667000        2.205667e+09                      LAKE ST      NaN   \n",
       "178595  2205668000        2.205668e+09         4            LAKE ST      NaN   \n",
       "178596  2205669000        2.205669e+09  2193  2201  COMMONWEALTH AV      NaN   \n",
       "178597  2205670000        2.205670e+09      2203    COMMONWEALTH AV      NaN   \n",
       "\n",
       "               CITY  ZIPCODE  BLDG_SEQ  NUM_BLDGS  ...   KITCHEN_STYLE2  \\\n",
       "0       EAST BOSTON     2128       1.0          1  ...  S - Semi-Modern   \n",
       "1       EAST BOSTON     2128       1.0          1  ...       M - Modern   \n",
       "2       EAST BOSTON     2128       1.0          1  ...  S - Semi-Modern   \n",
       "3       EAST BOSTON     2128       1.0          1  ...  S - Semi-Modern   \n",
       "4       EAST BOSTON     2128       1.0          1  ...  S - Semi-Modern   \n",
       "...             ...      ...       ...        ...  ...              ...   \n",
       "178593     BRIGHTON     2135       1.0          1  ...              NaN   \n",
       "178594     BRIGHTON     2135       1.0          1  ...              NaN   \n",
       "178595     BRIGHTON     2135       1.0          1  ...       M - Modern   \n",
       "178596     BRIGHTON     2135       1.0          1  ...              NaN   \n",
       "178597     BRIGHTON     2135       1.0          3  ...              NaN   \n",
       "\n",
       "         KITCHEN_STYLE3           HEAT_TYPE HEAT_FUEL         AC_TYPE  \\\n",
       "0       S - Semi-Modern  W - Ht Water/Steam       NaN        N - None   \n",
       "1            M - Modern  F - Forced Hot Air       NaN  C - Central AC   \n",
       "2       S - Semi-Modern      S - Space Heat       NaN        N - None   \n",
       "3       S - Semi-Modern  W - Ht Water/Steam       NaN        N - None   \n",
       "4                   NaN  W - Ht Water/Steam       NaN        N - None   \n",
       "...                 ...                 ...       ...             ...   \n",
       "178593              NaN                 NaN       NaN             NaN   \n",
       "178594              NaN                 NaN       NaN             NaN   \n",
       "178595       M - Modern  W - Ht Water/Steam       NaN        N - None   \n",
       "178596              NaN                 NaN       NaN             NaN   \n",
       "178597              NaN                 NaN       NaN             NaN   \n",
       "\n",
       "       FIRE_PLACE ORIENTATION NUM_PARKING    PROP_VIEW CORNER_UNIT  \n",
       "0               0         NaN           3  A - Average         NaN  \n",
       "1               0         NaN           0  A - Average         NaN  \n",
       "2               0         NaN           0  A - Average         NaN  \n",
       "3               0         NaN           0  A - Average         NaN  \n",
       "4               0         NaN           0  A - Average         NaN  \n",
       "...           ...         ...         ...          ...         ...  \n",
       "178593          0         NaN           0          NaN         NaN  \n",
       "178594          0         NaN           0          NaN         NaN  \n",
       "178595          0         NaN           2  A - Average         NaN  \n",
       "178596          0         NaN           0          NaN         NaN  \n",
       "178597          0         NaN           0          NaN         NaN  \n",
       "\n",
       "[178598 rows x 64 columns]"
      ]
     },
     "execution_count": 3,
     "metadata": {},
     "output_type": "execute_result"
    }
   ],
   "source": [
    "data"
   ]
  },
  {
   "cell_type": "code",
   "execution_count": 4,
   "metadata": {},
   "outputs": [
    {
     "data": {
      "text/plain": [
       "Index(['PID', 'CM_ID', 'GIS_ID', 'ST_NUM', 'ST_NAME', 'UNIT_NUM', 'CITY',\n",
       "       'ZIPCODE', 'BLDG_SEQ', 'NUM_BLDGS', 'LUC', 'LU', 'LU_DESC', 'BLDG_TYPE',\n",
       "       'OWN_OCC', 'OWNER', 'MAIL_ADDRESSEE', 'MAIL_ADDRESS', 'MAIL_CITY',\n",
       "       'MAIL_STATE', 'MAIL_ZIPCODE', 'RES_FLOOR', 'CD_FLOOR', 'RES_UNITS',\n",
       "       'COM_UNITS', 'RC_UNITS', 'LAND_SF', 'GROSS_AREA', 'LIVING_AREA',\n",
       "       'LAND_VALUE', 'BLDG_VALUE', 'TOTAL_VALUE', 'GROSS_TAX', 'YR_BUILT',\n",
       "       'YR_REMODEL', 'STRUCTURE_CLASS', 'ROOF_STRUCTURE', 'ROOF_COVER',\n",
       "       'INT_WALL', 'EXT_FINISHED', 'INT_COND', 'EXT_COND', 'OVERALL_COND',\n",
       "       'BED_RMS', 'FULL_BTH', 'HLF_BTH', 'KITCHEN', 'TT_RMS', 'BDRM_COND',\n",
       "       'BTHRM_STYLE1', 'BTHRM_STYLE2', 'BTHRM_STYLE3', 'KITCHEN_TYPE',\n",
       "       'KITCHEN_STYLE1', 'KITCHEN_STYLE2', 'KITCHEN_STYLE3', 'HEAT_TYPE',\n",
       "       'HEAT_FUEL', 'AC_TYPE', 'FIRE_PLACE', 'ORIENTATION', 'NUM_PARKING',\n",
       "       'PROP_VIEW', 'CORNER_UNIT'],\n",
       "      dtype='object')"
      ]
     },
     "execution_count": 4,
     "metadata": {},
     "output_type": "execute_result"
    }
   ],
   "source": [
    "data.columns"
   ]
  },
  {
   "cell_type": "markdown",
   "metadata": {},
   "source": [
    "Just a meaningless cell to play with the groupby function."
   ]
  },
  {
   "cell_type": "code",
   "execution_count": 5,
   "metadata": {},
   "outputs": [],
   "source": [
    "#print(data.groupby(\"ZIPCODE\").describe().columns)\n",
    "#data.groupby(\"ZIPCODE\").agg(['sum'])"
   ]
  },
  {
   "cell_type": "markdown",
   "metadata": {},
   "source": [
    "The following code drops the columns and data we absolutely don't need - such as IDs and duplicate addresses and mailing info."
   ]
  },
  {
   "cell_type": "code",
   "execution_count": 6,
   "metadata": {},
   "outputs": [],
   "source": [
    "cleaned = data.drop(['CM_ID', 'GIS_ID','UNIT_NUM','BLDG_SEQ','LUC','LU_DESC','CITY',\"OWNER\",\"MAIL_ADDRESSEE\",'MAIL_ADDRESS', 'MAIL_CITY','MAIL_STATE', 'MAIL_ZIPCODE',\"ORIENTATION\"],axis=1)"
   ]
  },
  {
   "cell_type": "markdown",
   "metadata": {},
   "source": [
    "Next, we need to create mappings for each categorical variable and fill in missing data in a reasonable way. For example, missing data for kitchens is equivalent to not having one at all."
   ]
  },
  {
   "cell_type": "markdown",
   "metadata": {},
   "source": [
    "mapping = {\"a\" : 1...}\n",
    "df[\"col\"] = df[\"col\"].map(mapping)"
   ]
  },
  {
   "cell_type": "markdown",
   "metadata": {},
   "source": [
    "This is an example of how to find the possible values in each column in order to figure out how to best fill in the data."
   ]
  },
  {
   "cell_type": "code",
   "execution_count": 7,
   "metadata": {},
   "outputs": [
    {
     "data": {
      "text/plain": [
       "array(['R - ', nan, 'D - Wood/Frame', 'C - Brick/Concr',\n",
       "       'B - Reinf Concr', 'A - Struct Steel', 'E - Metal'], dtype=object)"
      ]
     },
     "execution_count": 7,
     "metadata": {},
     "output_type": "execute_result"
    }
   ],
   "source": [
    "cleaned['STRUCTURE_CLASS'].unique()\n",
    "#data.isnull().sum().to_string()\n",
    "#for x in data.isnull().sum():\n",
    "#  print(x)"
   ]
  },
  {
   "cell_type": "code",
   "execution_count": 8,
   "metadata": {},
   "outputs": [],
   "source": [
    "# drop properties without BLDG_VALUE\n",
    "# for GROSS_AREA and LIVING_AREA -\n",
    "  # LIVING_AREA is often null for business type buildings, or condo management buildings\n",
    "  # GROSS_AREA seems to just be a case of missing data?\n",
    "  # this requires more investigation, but for now, dropping all properties with no gross area also appears to drop all those with\n",
    "  # no living area either (meaning that all properties with no living area data also are missing gross area data)\n",
    "# replace nan in BLDG_TYPE with NoBld\n",
    "# for kitchens - get the median type of kitchen and keep the count of kitchens rather than having 3 columns for three types of kitchens\n",
    "# replace NAN in HEAT_FUEL with N - None\n",
    "# same for HEAT_TYPE, AC_TYPE\n",
    "# for FIRE_PLACE - simply assume nan = no fireplace\n",
    "# for bathrooms, average out the style of bathroom\n",
    "# merge res_floor and cd_floor\n",
    "# for roof strucutre - change nan to \"O - Other\"\n",
    "# for Structure class \n",
    "# for NUM_PARKING - assume there nan is no parking\n",
    "# merge RES_UNITS, COM_UNITS, RC_UNITS\n",
    "# for anything else, data can probably be filled in with median for continuous or mode for categorical"
   ]
  },
  {
   "cell_type": "markdown",
   "metadata": {},
   "source": [
    "Cleaning up the data"
   ]
  },
  {
   "cell_type": "markdown",
   "metadata": {},
   "source": [
    "Let's see where we have missing values."
   ]
  },
  {
   "cell_type": "code",
   "execution_count": 9,
   "metadata": {},
   "outputs": [
    {
     "data": {
      "text/plain": [
       "PID                     0\n",
       "ST_NUM                  0\n",
       "ST_NAME                 0\n",
       "ZIPCODE                 0\n",
       "NUM_BLDGS               0\n",
       "LU                      0\n",
       "BLDG_TYPE            2504\n",
       "OWN_OCC                 0\n",
       "RES_FLOOR           23324\n",
       "CD_FLOOR           109709\n",
       "RES_UNITS               0\n",
       "COM_UNITS               0\n",
       "RC_UNITS                0\n",
       "LAND_SF             80768\n",
       "GROSS_AREA          23198\n",
       "LIVING_AREA         23198\n",
       "LAND_VALUE            176\n",
       "BLDG_VALUE            176\n",
       "TOTAL_VALUE           176\n",
       "GROSS_TAX             176\n",
       "YR_BUILT            23198\n",
       "YR_REMODEL          86506\n",
       "STRUCTURE_CLASS     99138\n",
       "ROOF_STRUCTURE      36738\n",
       "ROOF_COVER          36739\n",
       "INT_WALL            47646\n",
       "EXT_FINISHED        23289\n",
       "INT_COND            47639\n",
       "EXT_COND            36708\n",
       "OVERALL_COND         9325\n",
       "BED_RMS                 0\n",
       "FULL_BTH                0\n",
       "HLF_BTH                 0\n",
       "KITCHEN                 0\n",
       "TT_RMS                  0\n",
       "BDRM_COND          110004\n",
       "BTHRM_STYLE1        47220\n",
       "BTHRM_STYLE2        94416\n",
       "BTHRM_STYLE3       142548\n",
       "KITCHEN_TYPE        47772\n",
       "KITCHEN_STYLE1      47762\n",
       "KITCHEN_STYLE2     146609\n",
       "KITCHEN_STYLE3     164426\n",
       "HEAT_TYPE           47649\n",
       "HEAT_FUEL          109677\n",
       "AC_TYPE             47654\n",
       "FIRE_PLACE              0\n",
       "NUM_PARKING             0\n",
       "PROP_VIEW           46747\n",
       "CORNER_UNIT        109691\n",
       "dtype: int64"
      ]
     },
     "execution_count": 9,
     "metadata": {},
     "output_type": "execute_result"
    }
   ],
   "source": [
    "cleaned.isnull().sum()"
   ]
  },
  {
   "cell_type": "markdown",
   "metadata": {},
   "source": [
    "First, let's drop properties with no BLDG_VALUE."
   ]
  },
  {
   "cell_type": "code",
   "execution_count": 10,
   "metadata": {},
   "outputs": [
    {
     "name": "stdout",
     "output_type": "stream",
     "text": [
      "178422\n"
     ]
    }
   ],
   "source": [
    "cleaned = cleaned.drop(data.index[data[\"BLDG_VALUE\"].isnull()])\n",
    "print(len(cleaned))"
   ]
  },
  {
   "cell_type": "markdown",
   "metadata": {},
   "source": [
    "Next, we need to handle the fact that many properties are missing a combination of land size, gross property size, as well as living space. Possible reasons for this include the fact that condominum units might not have a land size or gross property size, but will have a living space size. Commerical properties might have no living space but have a gross property size instead.\n",
    "\n",
    "The best way to figure this out is to look at properties with one of those values missing and then see what the most common land use for that type is."
   ]
  },
  {
   "cell_type": "code",
   "execution_count": 11,
   "metadata": {},
   "outputs": [
    {
     "data": {
      "text/plain": [
       "CM    10010\n",
       "RL     6150\n",
       "E      2508\n",
       "CP     1880\n",
       "CC     1206\n",
       "C       476\n",
       "CL      405\n",
       "A       272\n",
       "RC      133\n",
       "I        55\n",
       "EA       46\n",
       "R4       40\n",
       "CD       14\n",
       "AH        2\n",
       "R1        1\n",
       "Name: LU, dtype: int64"
      ]
     },
     "execution_count": 11,
     "metadata": {},
     "output_type": "execute_result"
    }
   ],
   "source": [
    "cleaned[cleaned[\"GROSS_AREA\"].isnull()][\"LU\"].value_counts()"
   ]
  },
  {
   "cell_type": "markdown",
   "metadata": {},
   "source": [
    "The vast majority of parcels with no gross floor space are condominum mains representing all units and with no actual value."
   ]
  },
  {
   "cell_type": "code",
   "execution_count": 12,
   "metadata": {},
   "outputs": [
    {
     "data": {
      "text/plain": [
       "CM    10010\n",
       "RL     6150\n",
       "E      2508\n",
       "CP     1880\n",
       "CC     1206\n",
       "C       476\n",
       "CL      405\n",
       "A       272\n",
       "RC      133\n",
       "I        55\n",
       "EA       46\n",
       "R4       40\n",
       "CD       14\n",
       "AH        2\n",
       "R1        1\n",
       "Name: LU, dtype: int64"
      ]
     },
     "execution_count": 12,
     "metadata": {},
     "output_type": "execute_result"
    }
   ],
   "source": [
    "cleaned[cleaned[\"LIVING_AREA\"].isnull()][\"LU\"].value_counts()"
   ]
  },
  {
   "cell_type": "markdown",
   "metadata": {},
   "source": [
    "Given the that counts for each type of land use are identical for both gross area and living area, it's probable that they are the exact same parcels. Given that they seem to be missing this data and there's no good way to fill it in, they might just have to be dropped entirely. \n",
    "\n",
    "An alternate option is to keep them, but mark 0 for both. This makes sense for LIVING_AREA, but it does not make sense for GROSS_AREA."
   ]
  },
  {
   "cell_type": "code",
   "execution_count": 13,
   "metadata": {},
   "outputs": [
    {
     "data": {
      "text/plain": [
       "CD    68604\n",
       "CP     7646\n",
       "CC     1507\n",
       "C       960\n",
       "E       737\n",
       "A       468\n",
       "RC      292\n",
       "CL       93\n",
       "I        72\n",
       "CM       58\n",
       "RL       50\n",
       "R4       48\n",
       "EA       26\n",
       "R1       26\n",
       "R3        7\n",
       "R2        4\n",
       "Name: LU, dtype: int64"
      ]
     },
     "execution_count": 13,
     "metadata": {},
     "output_type": "execute_result"
    }
   ],
   "source": [
    "cleaned[cleaned[\"LAND_SF\"].isnull()][\"LU\"].value_counts()"
   ]
  },
  {
   "cell_type": "markdown",
   "metadata": {},
   "source": [
    "For land size, it's mainly condominum units that have no land size. This makes sense, as those properties are just the housing and nothing more. In this case, missing land data for condominium units can actually be filled in with 0 because they truly have no land. This reasoning probably applies to all of the other types except parking, and those can just be dropped.\n",
    "\n",
    "This allows us to keep most of the rows with missing LAND_SF data."
   ]
  },
  {
   "cell_type": "code",
   "execution_count": 14,
   "metadata": {},
   "outputs": [],
   "source": [
    "cleaned[\"LAND_SF\"] = cleaned[\"LAND_SF\"].fillna(0)\n",
    "cleaned.drop(data.index[data[\"GROSS_AREA\"].isnull()],inplace=True)"
   ]
  },
  {
   "cell_type": "code",
   "execution_count": 15,
   "metadata": {},
   "outputs": [
    {
     "data": {
      "text/plain": [
       "PID                     0\n",
       "ST_NUM                  0\n",
       "ST_NAME                 0\n",
       "ZIPCODE                 0\n",
       "NUM_BLDGS               0\n",
       "LU                      0\n",
       "BLDG_TYPE             967\n",
       "OWN_OCC                 0\n",
       "RES_FLOOR           11016\n",
       "CD_FLOOR            86339\n",
       "RES_UNITS               0\n",
       "COM_UNITS               0\n",
       "RC_UNITS                0\n",
       "LAND_SF                 0\n",
       "GROSS_AREA              0\n",
       "LIVING_AREA             0\n",
       "LAND_VALUE              0\n",
       "BLDG_VALUE              0\n",
       "TOTAL_VALUE             0\n",
       "GROSS_TAX               0\n",
       "YR_BUILT            10905\n",
       "YR_REMODEL          71701\n",
       "STRUCTURE_CLASS     77802\n",
       "ROOF_STRUCTURE      24454\n",
       "ROOF_COVER          24455\n",
       "INT_WALL            24811\n",
       "EXT_FINISHED        11047\n",
       "INT_COND            24815\n",
       "EXT_COND            24424\n",
       "OVERALL_COND         7089\n",
       "BED_RMS                 0\n",
       "FULL_BTH                0\n",
       "HLF_BTH                 0\n",
       "KITCHEN                 0\n",
       "TT_RMS                  0\n",
       "BDRM_COND           86634\n",
       "BTHRM_STYLE1        24725\n",
       "BTHRM_STYLE2        71840\n",
       "BTHRM_STYLE3       119608\n",
       "KITCHEN_TYPE        24842\n",
       "KITCHEN_STYLE1      24831\n",
       "KITCHEN_STYLE2     123368\n",
       "KITCHEN_STYLE3     141113\n",
       "HEAT_TYPE           24816\n",
       "HEAT_FUEL           86340\n",
       "AC_TYPE             24818\n",
       "FIRE_PLACE              0\n",
       "NUM_PARKING             0\n",
       "PROP_VIEW           24682\n",
       "CORNER_UNIT         86327\n",
       "dtype: int64"
      ]
     },
     "execution_count": 15,
     "metadata": {},
     "output_type": "execute_result"
    }
   ],
   "source": [
    "cleaned.isnull().sum()"
   ]
  },
  {
   "cell_type": "markdown",
   "metadata": {},
   "source": [
    "There are now no missing values in LAND_SF, GROSS_AREA, or LIVING_AREA."
   ]
  },
  {
   "cell_type": "markdown",
   "metadata": {},
   "source": [
    "We now have to deal with the missing BLDG_TYPE. Let's see what's common, since this will likely have to be replaced with a dummy value or the mode."
   ]
  },
  {
   "cell_type": "code",
   "execution_count": 16,
   "metadata": {},
   "outputs": [
    {
     "data": {
      "text/plain": [
       "array(['RE - Row End', 'RM - Row Middle', 'DK - Decker',\n",
       "       'CV - Conventional', 'TF - Two Fam Stack', 'SD - Semi-Det',\n",
       "       'CL - Colonial', 'CP - Cape', '111 - APT 4-6 UNITS',\n",
       "       '327 - RESTAURANT/Lounge', '026 - RC: TWO RES UNITS',\n",
       "       'DX - Duplex', '333 - SELF-SERV STATION', '320 - RET/WHSL/SERVICE',\n",
       "       '325 - RETAIL STORE Detached', '025 - RC: ONE RES UNIT',\n",
       "       '343 - OFFICE 1-2 STORY', '027 - RC: THREE RES UNITS',\n",
       "       'VT - Victorian', '112 - APT 7-30 UNITS', '332 - REPAIR GARAGE',\n",
       "       'TH - Town House', 'FS - Free Standing', nan,\n",
       "       '316 - WAREHOUSE /Distrib', '326 - RESTAURANT/Cafeteria',\n",
       "       'NoBld - ', '319 - STRIP RETAIL/ OFFICE', '99 - Vacant',\n",
       "       '342 - MEDICAL OFFICE', '397 - BUS /RR TERMINAL',\n",
       "       '312 - Self-Storage whse', '317 - STORAGE WHSE (old)',\n",
       "       '446 - STEAM/WATER/SEWER', '335 - CAR WASH',\n",
       "       '328 - FAST FOOD Restaurant', '344 - OFFICE 3-9 STORY',\n",
       "       '300 - HOTEL', 'LR - Low Rise', '117 - DAY CARE CENTER',\n",
       "       '125 - SUBSD HOUSING S- 8', '114 - APT 100+ UNITS',\n",
       "       'RR - Raised Ranch', 'OT - Other', '970 - CHURCH, SYNAGOGUE',\n",
       "       'RN - Ranch', '127 - SUBSD HOUSING S-202', 'BW - Bungalow',\n",
       "       '378 - SCHOOL', '341 - BANK BUILDING', '116 - RES PARKING GARAGE',\n",
       "       '353 - SOCIAL CLUB', 'CN - Contemporary', '976 - SCHOOL',\n",
       "       'SL - Split Level', '351 - TRAINING /PRIV EDUC',\n",
       "       '945 - ACTIVITY/ Social Center', 'TL - Tri-Level',\n",
       "       '401 - WHSE: INDUSTRIAL', 'TD - Tudor', '340 - OFFICE (ATTACHED)',\n",
       "       '113 - APT 31-99 UNITS', '311 - Laundromat /Cleaner',\n",
       "       '355 - FUNERAL HOME', '952 - OFFICE /Administration',\n",
       "       '314 - TRUCK TERMINAL', '971 - RECTORY, CONVENT',\n",
       "       '304 - NURSING /CONV HOME', '366 - FIELDHOUSE/TRACK',\n",
       "       '379 - CHURCH, SYNAGOGUE', '121 - ROOMING HOUSE',\n",
       "       '336 - COMM PKG GARAGE', '013 - RES /COMMERCIAL USE',\n",
       "       '400 - OLD MANUFACTURING', '384 - BOAT HOUSE /MARINA',\n",
       "       '151 - APT 1BR units', '405 - INDUSTRIAL LOFT',\n",
       "       '975 - POLICE STATION', '414 - FOOD PROCESS PLANT',\n",
       "       'MR - Mid Rise', '377 - RECREATION BLDG', '129 - RECTORY, CONVENT',\n",
       "       '396 - HANGAR: Storage/Maint', '978 - LIBRARY',\n",
       "       '307 - VETERINARY HOSPITAL', '969 - BOAT REPAIR/ Storage',\n",
       "       '120 - LUXURY APARTMENT', '941 - AUDITORIUM /THEATER',\n",
       "       '376 - GYM /Athletic Bldg', '407 - MACHINE SHOP (small)',\n",
       "       '954 - MEDICAL OFFICE', '974 - FIRE STATION',\n",
       "       '374 - HEALTH SPA /CLUB', '118 - ELDERLY HOME',\n",
       "       '402 - OFFICE: INDUSTRIAL', '369 - ARTIST STUDIO',\n",
       "       '424 - ELEC SUBSTATION', '950 - APARTMENT BLDG',\n",
       "       '907 - EXEMPT 121A PROP', '309 - MEDICAL CLINIC Outpatient',\n",
       "       '315 - STORAGE ANCILLARY', '329 - BAR/TAVERN/PUB',\n",
       "       '973 - ADMINISTRATIVE BLDG', '979 - HOSPITAL (exempt)',\n",
       "       '373 - SWIMMING POOL -Enclosed', '305 - PRIVATE HOSPITAL',\n",
       "       '324 - SUPERMARKET', '370 - BOWLING ALLEY',\n",
       "       '980 - WATER TREATMT PLANT', '958 - REHAB /Convalescent facility',\n",
       "       'B - ', '318 - COLD STORAGE WHSE', '346 - OFFICE CLS B+',\n",
       "       '957 - MAINTENANCE/Service Bldg', '404 - LIGHT MFG/ R & D',\n",
       "       '403 - NEW MANUFACTURING', '977 - COLLEGE (academic)',\n",
       "       '310 - LAUNDRY OPERATION', '947 - ATHLETIC /SPORTS CTR',\n",
       "       '968 - WAREHOUSE', '360 - MUSEUM, GALLERY', '306 - LABORATORY',\n",
       "       '955 - LABORATORY/Medical/Biology', '345 - OFFICE CLS B',\n",
       "       '334 - SERVICE Center/Retail', '371 - ARENA: Ice Skating',\n",
       "       '122 - LODGING SUITES', '126 - SUBSD HOUSING S-231D',\n",
       "       '953 - MEDICAL CLINIC Outpatient', '961 - PARKING GARAGE',\n",
       "       'HR - High Rise', '128 - CONDO APARTMENT', 'C - ', '301 - MOTEL',\n",
       "       '302 - INN, RESORT', '347 - OFFICE CLS A-',\n",
       "       '338 - Subterranean Garage', '365 - AUDITORIUM/Sport Center',\n",
       "       '972 - CORRECTIONAL BLDG', '902 - CITY OF BOSTON',\n",
       "       '152 - APT 2BR units', \"965 - GOV'T OFFICE BLDG\",\n",
       "       '348 - OFFICE CLS A', '942 - CLASSROOM', '937 - DORMITORY  bd',\n",
       "       '951 - DORMITORY  rm', '982 - ARMORY (MILITARY)',\n",
       "       '123 - RESIDENCE HALL /Fraternity', '946 - RETAIL USE (exempt)',\n",
       "       '322 - DEPARTMENT STORE', '303 - PRIV CITY CLUB',\n",
       "       '321 - DISCOUNT STORE', '361 - NIGHT CLUB', '364 - STAGE THEATER',\n",
       "       '124 - DORMITORY  bd', '985 - OTHER EXEMPT BLDG',\n",
       "       '963 - HVAC Equip/Utility Bldg', '350 - POSTAL SERVICE',\n",
       "       '150 - APT 0BR units', '010 - CONDO MULTI-USE',\n",
       "       '406 - COMPUTER EQUIP BLDG', '339 - PARKING high vol',\n",
       "       '375 - TENNIS/ RACQUET CLUB', '115 - CO-OP APARTMENT',\n",
       "       '422 - ELEC POWER PLANT', '944 - DINING Facility/Cafeteria',\n",
       "       '906 - RELIGIOUS Organization', '390 - Comm Dev Land',\n",
       "       '445 - RAILROAD PROP', '153 - APT 3BR units', '352 - DAY CARE',\n",
       "       '031 - COMM MULTI-USE', '392 - Comm Undev',\n",
       "       '412 - METAL PROCESSING', '415 - BOTTLING PLANT',\n",
       "       '331 - AUTO SUPPLY/Service', '313 - LUMBER YD STORAGE',\n",
       "       '949 - STORAGE Area /Supplies', '399 - COM GREENHOUSE',\n",
       "       '904 - PRIV SCHOOL /COLLEGE', 'D - ', '323 - SHOPPING CENTER',\n",
       "       '435 - RADIO/TV STUDIO', '413 - AUTO SALVAGE YARD',\n",
       "       'CM - Condo Main', '430 - TELEPH EXCHG STATN',\n",
       "       '372 - ARENA: Roller Skating', '105 - THREE-FAM DWELLING',\n",
       "       '959 - ASSISTED LIVING/ Elderly', '431 - TELEPH RELAY TOWER',\n",
       "       '330 - SHOWROOM', '427 - GAS STORAGE',\n",
       "       '394 - Com Utility Bldg /Shed', '905 - CHARITABLE Organization',\n",
       "       '154 - APT 4BR units', '382 - STABLE(S)', '417 - DAIRY',\n",
       "       'BL - Bi-Level', '943 - COMPUTER /SCIENCE LAB',\n",
       "       '436 - STUDIO /Remote Control'], dtype=object)"
      ]
     },
     "execution_count": 16,
     "metadata": {},
     "output_type": "execute_result"
    }
   ],
   "source": [
    "cleaned['BLDG_TYPE'].unique()"
   ]
  },
  {
   "cell_type": "markdown",
   "metadata": {},
   "source": [
    "There's a lot of choices here. Since LU (Land Use) is valid for every parcel, let's see what the most common land use is for these buildings."
   ]
  },
  {
   "cell_type": "code",
   "execution_count": 17,
   "metadata": {},
   "outputs": [
    {
     "data": {
      "text/plain": [
       "CL    880\n",
       "RL     76\n",
       "CP      5\n",
       "C       2\n",
       "A       1\n",
       "RC      1\n",
       "E       1\n",
       "CC      1\n",
       "Name: LU, dtype: int64"
      ]
     },
     "execution_count": 17,
     "metadata": {},
     "output_type": "execute_result"
    }
   ],
   "source": [
    "cleaned[cleaned[\"BLDG_TYPE\"].isnull()][\"LU\"].value_counts()"
   ]
  },
  {
   "cell_type": "markdown",
   "metadata": {},
   "source": [
    "It appears to be empty parcels of land, for the most part. In this case, there *are* no buildings, so of course building type is null. This means we can just fill in the empty data with something like \"NB - No Building\"."
   ]
  },
  {
   "cell_type": "code",
   "execution_count": 18,
   "metadata": {},
   "outputs": [],
   "source": [
    "cleaned[\"BLDG_TYPE\"] = cleaned[\"BLDG_TYPE\"].fillna(\"NB - No Building\")"
   ]
  },
  {
   "cell_type": "markdown",
   "metadata": {},
   "source": [
    "Okay, the next set to take care of is properties with no LAND_VALUE, BLDG_VALUE, or TOTAL_VALUE. I will simply drop these because I know they are just untaxable land/government properties. "
   ]
  },
  {
   "cell_type": "code",
   "execution_count": 19,
   "metadata": {},
   "outputs": [],
   "source": [
    "cleaned.drop(cleaned.index[cleaned[\"LAND_VALUE\"].isnull()], inplace=True)"
   ]
  },
  {
   "cell_type": "code",
   "execution_count": 20,
   "metadata": {},
   "outputs": [
    {
     "data": {
      "text/plain": [
       "PID                     0\n",
       "ST_NUM                  0\n",
       "ST_NAME                 0\n",
       "ZIPCODE                 0\n",
       "NUM_BLDGS               0\n",
       "LU                      0\n",
       "BLDG_TYPE               0\n",
       "OWN_OCC                 0\n",
       "RES_FLOOR           11016\n",
       "CD_FLOOR            86339\n",
       "RES_UNITS               0\n",
       "COM_UNITS               0\n",
       "RC_UNITS                0\n",
       "LAND_SF                 0\n",
       "GROSS_AREA              0\n",
       "LIVING_AREA             0\n",
       "LAND_VALUE              0\n",
       "BLDG_VALUE              0\n",
       "TOTAL_VALUE             0\n",
       "GROSS_TAX               0\n",
       "YR_BUILT            10905\n",
       "YR_REMODEL          71701\n",
       "STRUCTURE_CLASS     77802\n",
       "ROOF_STRUCTURE      24454\n",
       "ROOF_COVER          24455\n",
       "INT_WALL            24811\n",
       "EXT_FINISHED        11047\n",
       "INT_COND            24815\n",
       "EXT_COND            24424\n",
       "OVERALL_COND         7089\n",
       "BED_RMS                 0\n",
       "FULL_BTH                0\n",
       "HLF_BTH                 0\n",
       "KITCHEN                 0\n",
       "TT_RMS                  0\n",
       "BDRM_COND           86634\n",
       "BTHRM_STYLE1        24725\n",
       "BTHRM_STYLE2        71840\n",
       "BTHRM_STYLE3       119608\n",
       "KITCHEN_TYPE        24842\n",
       "KITCHEN_STYLE1      24831\n",
       "KITCHEN_STYLE2     123368\n",
       "KITCHEN_STYLE3     141113\n",
       "HEAT_TYPE           24816\n",
       "HEAT_FUEL           86340\n",
       "AC_TYPE             24818\n",
       "FIRE_PLACE              0\n",
       "NUM_PARKING             0\n",
       "PROP_VIEW           24682\n",
       "CORNER_UNIT         86327\n",
       "dtype: int64"
      ]
     },
     "execution_count": 20,
     "metadata": {},
     "output_type": "execute_result"
    }
   ],
   "source": [
    "cleaned.isnull().sum()"
   ]
  },
  {
   "cell_type": "markdown",
   "metadata": {},
   "source": [
    "The next issue to handle is floor data. Most likely, these will have to be filled in with 1 or something like that."
   ]
  },
  {
   "cell_type": "code",
   "execution_count": 21,
   "metadata": {},
   "outputs": [
    {
     "data": {
      "text/plain": [
       "CP    5758\n",
       "E     2585\n",
       "CL    1045\n",
       "C      809\n",
       "CC     269\n",
       "RC     167\n",
       "I      116\n",
       "A      113\n",
       "RL      79\n",
       "R4      42\n",
       "EA      30\n",
       "CM       1\n",
       "R2       1\n",
       "AH       1\n",
       "Name: LU, dtype: int64"
      ]
     },
     "execution_count": 21,
     "metadata": {},
     "output_type": "execute_result"
    }
   ],
   "source": [
    "cleaned[cleaned[\"RES_FLOOR\"].isnull()][\"LU\"].value_counts()"
   ]
  },
  {
   "cell_type": "markdown",
   "metadata": {},
   "source": [
    "The most common type of property with no residential floors is parking. That makes sense, but the remaining types don't really make sense, as some of them are still places that would have residential floors."
   ]
  },
  {
   "cell_type": "code",
   "execution_count": 22,
   "metadata": {},
   "outputs": [
    {
     "data": {
      "text/plain": [
       "R1    30455\n",
       "R2    16954\n",
       "R3    13585\n",
       "CP     5795\n",
       "E      4938\n",
       "C      4356\n",
       "RC     2799\n",
       "A      2586\n",
       "R4     2529\n",
       "CL     1063\n",
       "I       406\n",
       "CC      316\n",
       "CM      264\n",
       "EA      212\n",
       "RL       79\n",
       "CD        1\n",
       "AH        1\n",
       "Name: LU, dtype: int64"
      ]
     },
     "execution_count": 22,
     "metadata": {},
     "output_type": "execute_result"
    }
   ],
   "source": [
    "cleaned[cleaned[\"CD_FLOOR\"].isnull()][\"LU\"].value_counts()"
   ]
  },
  {
   "cell_type": "markdown",
   "metadata": {},
   "source": [
    "For condominium floor, it makes sense that residential homes don't count and thus have no data, but this does mean we have no floor data for most of the proprties. This means that the best choice is just to drop floor data entirely."
   ]
  },
  {
   "cell_type": "code",
   "execution_count": 23,
   "metadata": {},
   "outputs": [],
   "source": [
    "cleaned.drop([\"CD_FLOOR\",\"RES_FLOOR\"],axis=1, inplace=True)"
   ]
  },
  {
   "cell_type": "code",
   "execution_count": 24,
   "metadata": {},
   "outputs": [
    {
     "data": {
      "text/plain": [
       "PID                     0\n",
       "ST_NUM                  0\n",
       "ST_NAME                 0\n",
       "ZIPCODE                 0\n",
       "NUM_BLDGS               0\n",
       "LU                      0\n",
       "BLDG_TYPE               0\n",
       "OWN_OCC                 0\n",
       "RES_UNITS               0\n",
       "COM_UNITS               0\n",
       "RC_UNITS                0\n",
       "LAND_SF                 0\n",
       "GROSS_AREA              0\n",
       "LIVING_AREA             0\n",
       "LAND_VALUE              0\n",
       "BLDG_VALUE              0\n",
       "TOTAL_VALUE             0\n",
       "GROSS_TAX               0\n",
       "YR_BUILT            10905\n",
       "YR_REMODEL          71701\n",
       "STRUCTURE_CLASS     77802\n",
       "ROOF_STRUCTURE      24454\n",
       "ROOF_COVER          24455\n",
       "INT_WALL            24811\n",
       "EXT_FINISHED        11047\n",
       "INT_COND            24815\n",
       "EXT_COND            24424\n",
       "OVERALL_COND         7089\n",
       "BED_RMS                 0\n",
       "FULL_BTH                0\n",
       "HLF_BTH                 0\n",
       "KITCHEN                 0\n",
       "TT_RMS                  0\n",
       "BDRM_COND           86634\n",
       "BTHRM_STYLE1        24725\n",
       "BTHRM_STYLE2        71840\n",
       "BTHRM_STYLE3       119608\n",
       "KITCHEN_TYPE        24842\n",
       "KITCHEN_STYLE1      24831\n",
       "KITCHEN_STYLE2     123368\n",
       "KITCHEN_STYLE3     141113\n",
       "HEAT_TYPE           24816\n",
       "HEAT_FUEL           86340\n",
       "AC_TYPE             24818\n",
       "FIRE_PLACE              0\n",
       "NUM_PARKING             0\n",
       "PROP_VIEW           24682\n",
       "CORNER_UNIT         86327\n",
       "dtype: int64"
      ]
     },
     "execution_count": 24,
     "metadata": {},
     "output_type": "execute_result"
    }
   ],
   "source": [
    "cleaned.isnull().sum()"
   ]
  },
  {
   "cell_type": "markdown",
   "metadata": {},
   "source": [
    "Now, we need to contend with missing data for the year of construction, as well as renovation year. Blank renovation years could just be replaced with the original construction year."
   ]
  },
  {
   "cell_type": "code",
   "execution_count": 25,
   "metadata": {},
   "outputs": [
    {
     "data": {
      "text/plain": [
       "CP    5758\n",
       "E     2528\n",
       "CL    1046\n",
       "C      793\n",
       "CC     267\n",
       "RC     130\n",
       "I      104\n",
       "RL      79\n",
       "A       77\n",
       "R4      39\n",
       "CD      37\n",
       "EA      17\n",
       "R3      10\n",
       "CM       8\n",
       "R1       7\n",
       "R2       4\n",
       "AH       1\n",
       "Name: LU, dtype: int64"
      ]
     },
     "execution_count": 25,
     "metadata": {},
     "output_type": "execute_result"
    }
   ],
   "source": [
    "cleaned[cleaned[\"YR_BUILT\"].isnull()][\"LU\"].value_counts()"
   ]
  },
  {
   "cell_type": "markdown",
   "metadata": {},
   "source": [
    "It might just be better to drop cells without a construction year."
   ]
  },
  {
   "cell_type": "code",
   "execution_count": 26,
   "metadata": {},
   "outputs": [],
   "source": [
    "cleaned.drop(cleaned.index[cleaned[\"YR_BUILT\"].isnull()], inplace=True)"
   ]
  },
  {
   "cell_type": "markdown",
   "metadata": {},
   "source": [
    "Now, we have to fill in renovation years with the original year of construction."
   ]
  },
  {
   "cell_type": "code",
   "execution_count": 27,
   "metadata": {},
   "outputs": [],
   "source": [
    "cleaned[\"YR_REMODEL\"].fillna(cleaned[\"YR_BUILT\"],inplace=True)"
   ]
  },
  {
   "cell_type": "code",
   "execution_count": 28,
   "metadata": {},
   "outputs": [
    {
     "data": {
      "text/plain": [
       "PID                     0\n",
       "ST_NUM                  0\n",
       "ST_NAME                 0\n",
       "ZIPCODE                 0\n",
       "NUM_BLDGS               0\n",
       "LU                      0\n",
       "BLDG_TYPE               0\n",
       "OWN_OCC                 0\n",
       "RES_UNITS               0\n",
       "COM_UNITS               0\n",
       "RC_UNITS                0\n",
       "LAND_SF                 0\n",
       "GROSS_AREA              0\n",
       "LIVING_AREA             0\n",
       "LAND_VALUE              0\n",
       "BLDG_VALUE              0\n",
       "TOTAL_VALUE             0\n",
       "GROSS_TAX               0\n",
       "YR_BUILT                0\n",
       "YR_REMODEL              0\n",
       "STRUCTURE_CLASS     66949\n",
       "ROOF_STRUCTURE      13617\n",
       "ROOF_COVER          13619\n",
       "INT_WALL            13966\n",
       "EXT_FINISHED          220\n",
       "INT_COND            13970\n",
       "EXT_COND            13588\n",
       "OVERALL_COND         7072\n",
       "BED_RMS                 0\n",
       "FULL_BTH                0\n",
       "HLF_BTH                 0\n",
       "KITCHEN                 0\n",
       "TT_RMS                  0\n",
       "BDRM_COND           75764\n",
       "BTHRM_STYLE1        13880\n",
       "BTHRM_STYLE2        60990\n",
       "BTHRM_STYLE3       108736\n",
       "KITCHEN_TYPE        13998\n",
       "KITCHEN_STYLE1      13986\n",
       "KITCHEN_STYLE2     112478\n",
       "KITCHEN_STYLE3     130218\n",
       "HEAT_TYPE           13971\n",
       "HEAT_FUEL           75473\n",
       "AC_TYPE             13972\n",
       "FIRE_PLACE              0\n",
       "NUM_PARKING             0\n",
       "PROP_VIEW           13837\n",
       "CORNER_UNIT         75461\n",
       "dtype: int64"
      ]
     },
     "execution_count": 28,
     "metadata": {},
     "output_type": "execute_result"
    }
   ],
   "source": [
    "cleaned.isnull().sum()"
   ]
  },
  {
   "cell_type": "markdown",
   "metadata": {},
   "source": [
    "Next, we have to fill in blank values for structure class. Let's see what these values can be."
   ]
  },
  {
   "cell_type": "code",
   "execution_count": 29,
   "metadata": {},
   "outputs": [
    {
     "data": {
      "text/plain": [
       "array(['R - ', nan, 'D - Wood/Frame', 'C - Brick/Concr',\n",
       "       'B - Reinf Concr', 'A - Struct Steel', 'E - Metal'], dtype=object)"
      ]
     },
     "execution_count": 29,
     "metadata": {},
     "output_type": "execute_result"
    }
   ],
   "source": [
    "cleaned['STRUCTURE_CLASS'].unique()"
   ]
  },
  {
   "cell_type": "code",
   "execution_count": 30,
   "metadata": {},
   "outputs": [
    {
     "data": {
      "text/plain": [
       "CD    65428\n",
       "R1      480\n",
       "E       247\n",
       "CM      237\n",
       "R2      203\n",
       "R3      181\n",
       "A        59\n",
       "RC       37\n",
       "C        23\n",
       "CC       18\n",
       "R4       12\n",
       "EA       12\n",
       "I        12\n",
       "Name: LU, dtype: int64"
      ]
     },
     "execution_count": 30,
     "metadata": {},
     "output_type": "execute_result"
    }
   ],
   "source": [
    "cleaned[cleaned[\"STRUCTURE_CLASS\"].isnull()][\"LU\"].value_counts()"
   ]
  },
  {
   "cell_type": "markdown",
   "metadata": {},
   "source": [
    "So, most of the missing values for structure class are condominium-style buildings. The rest are a mixture of residential and unclear properties. We can make a new label specifically for condos, label the residental ones with \"R\", and then remove the remaining ones. "
   ]
  },
  {
   "cell_type": "code",
   "execution_count": 31,
   "metadata": {},
   "outputs": [],
   "source": [
    "mask = cleaned.index[(cleaned[\"STRUCTURE_CLASS\"].isnull()) & (cleaned[\"LU\"] == \"CD\")]\n",
    "cleaned.loc[mask,\"STRUCTURE_CLASS\"] = cleaned.loc[mask,\"STRUCTURE_CLASS\"].fillna(\"CD - Condominium\")"
   ]
  },
  {
   "cell_type": "code",
   "execution_count": 32,
   "metadata": {},
   "outputs": [],
   "source": [
    "classes = [\"R1\",\"R2\",\"R3\",\"R4\",\"RC\",\"A\",\"CM\"]\n",
    "mask = cleaned.index[(cleaned[\"STRUCTURE_CLASS\"].isnull()) & (cleaned[\"LU\"].isin(classes))]\n",
    "cleaned.loc[mask,\"STRUCTURE_CLASS\"] = cleaned.loc[mask,\"STRUCTURE_CLASS\"].fillna(\"R - \")"
   ]
  },
  {
   "cell_type": "markdown",
   "metadata": {},
   "source": [
    "We can now drop the remaining rows with no STRUCTURE_CLASS."
   ]
  },
  {
   "cell_type": "code",
   "execution_count": 33,
   "metadata": {},
   "outputs": [],
   "source": [
    "cleaned.drop(cleaned.index[cleaned[\"STRUCTURE_CLASS\"].isnull()], inplace=True)"
   ]
  },
  {
   "cell_type": "markdown",
   "metadata": {},
   "source": [
    "Let's see what's next."
   ]
  },
  {
   "cell_type": "code",
   "execution_count": 34,
   "metadata": {},
   "outputs": [
    {
     "data": {
      "text/plain": [
       "PID                     0\n",
       "ST_NUM                  0\n",
       "ST_NAME                 0\n",
       "ZIPCODE                 0\n",
       "NUM_BLDGS               0\n",
       "LU                      0\n",
       "BLDG_TYPE               0\n",
       "OWN_OCC                 0\n",
       "RES_UNITS               0\n",
       "COM_UNITS               0\n",
       "RC_UNITS                0\n",
       "LAND_SF                 0\n",
       "GROSS_AREA              0\n",
       "LIVING_AREA             0\n",
       "LAND_VALUE              0\n",
       "BLDG_VALUE              0\n",
       "TOTAL_VALUE             0\n",
       "GROSS_TAX               0\n",
       "YR_BUILT                0\n",
       "YR_REMODEL              0\n",
       "STRUCTURE_CLASS         0\n",
       "ROOF_STRUCTURE      13514\n",
       "ROOF_COVER          13516\n",
       "INT_WALL            13855\n",
       "EXT_FINISHED          123\n",
       "INT_COND            13858\n",
       "EXT_COND            13486\n",
       "OVERALL_COND         7066\n",
       "BED_RMS                 0\n",
       "FULL_BTH                0\n",
       "HLF_BTH                 0\n",
       "KITCHEN                 0\n",
       "TT_RMS                  0\n",
       "BDRM_COND           75635\n",
       "BTHRM_STYLE1        13767\n",
       "BTHRM_STYLE2        60718\n",
       "BTHRM_STYLE3       108432\n",
       "KITCHEN_TYPE        13876\n",
       "KITCHEN_STYLE1      13873\n",
       "KITCHEN_STYLE2     112169\n",
       "KITCHEN_STYLE3     129908\n",
       "HEAT_TYPE           13859\n",
       "HEAT_FUEL           75354\n",
       "AC_TYPE             13860\n",
       "FIRE_PLACE              0\n",
       "NUM_PARKING             0\n",
       "PROP_VIEW           13730\n",
       "CORNER_UNIT         75345\n",
       "dtype: int64"
      ]
     },
     "execution_count": 34,
     "metadata": {},
     "output_type": "execute_result"
    }
   ],
   "source": [
    "cleaned.isnull().sum()"
   ]
  },
  {
   "cell_type": "markdown",
   "metadata": {},
   "source": [
    "ROOF_STRUCTURE and ROOF_COVER are next. The missing values will likely be the same parcels."
   ]
  },
  {
   "cell_type": "code",
   "execution_count": 35,
   "metadata": {},
   "outputs": [
    {
     "data": {
      "text/plain": [
       "array(['F - Flat', 'M - Mansard', 'H - Hip', 'G - Gable', nan,\n",
       "       'L - Gambrel', 'S - Shed', 'O - Other'], dtype=object)"
      ]
     },
     "execution_count": 35,
     "metadata": {},
     "output_type": "execute_result"
    }
   ],
   "source": [
    "cleaned[\"ROOF_STRUCTURE\"].unique()"
   ]
  },
  {
   "cell_type": "code",
   "execution_count": 36,
   "metadata": {},
   "outputs": [
    {
     "data": {
      "text/plain": [
       "C     3533\n",
       "RC    2551\n",
       "R4    2465\n",
       "A     2319\n",
       "E     2166\n",
       "I      290\n",
       "EA     132\n",
       "CD      28\n",
       "CL      18\n",
       "CC      12\n",
       "Name: LU, dtype: int64"
      ]
     },
     "execution_count": 36,
     "metadata": {},
     "output_type": "execute_result"
    }
   ],
   "source": [
    "cleaned[cleaned[\"ROOF_STRUCTURE\"].isnull()][\"LU\"].value_counts()"
   ]
  },
  {
   "cell_type": "markdown",
   "metadata": {},
   "source": [
    "There doesn't seem to be a clear explanation as to why this data is missing for some properties. I will just fill it in with \"U - Unknown\". I think this information is important enough to keep, but given the number of properties with this data missing, I also don't want to just remove the ones where it is missing."
   ]
  },
  {
   "cell_type": "code",
   "execution_count": 37,
   "metadata": {},
   "outputs": [
    {
     "data": {
      "text/plain": [
       "array(['C - Composition', 'R - Rubber Roof', 'S - Slate',\n",
       "       'A - Asphalt Shingl', 'O - Other', nan, 'W - Wood Shingle',\n",
       "       'T - Tile'], dtype=object)"
      ]
     },
     "execution_count": 37,
     "metadata": {},
     "output_type": "execute_result"
    }
   ],
   "source": [
    "cleaned[\"ROOF_COVER\"].unique()"
   ]
  },
  {
   "cell_type": "code",
   "execution_count": 38,
   "metadata": {},
   "outputs": [
    {
     "data": {
      "text/plain": [
       "C     3533\n",
       "RC    2551\n",
       "R4    2465\n",
       "A     2319\n",
       "E     2165\n",
       "I      290\n",
       "EA     132\n",
       "CD      31\n",
       "CL      18\n",
       "CC      12\n",
       "Name: LU, dtype: int64"
      ]
     },
     "execution_count": 38,
     "metadata": {},
     "output_type": "execute_result"
    }
   ],
   "source": [
    "cleaned[cleaned[\"ROOF_COVER\"].isnull()][\"LU\"].value_counts()"
   ]
  },
  {
   "cell_type": "code",
   "execution_count": 39,
   "metadata": {},
   "outputs": [],
   "source": [
    "cleaned[\"ROOF_COVER\"].fillna(\"U - Unknown\", inplace=True)\n",
    "cleaned[\"ROOF_STRUCTURE\"].fillna(\"U - Unknown\", inplace=True)"
   ]
  },
  {
   "cell_type": "code",
   "execution_count": 40,
   "metadata": {},
   "outputs": [
    {
     "data": {
      "text/plain": [
       "PID                     0\n",
       "ST_NUM                  0\n",
       "ST_NAME                 0\n",
       "ZIPCODE                 0\n",
       "NUM_BLDGS               0\n",
       "LU                      0\n",
       "BLDG_TYPE               0\n",
       "OWN_OCC                 0\n",
       "RES_UNITS               0\n",
       "COM_UNITS               0\n",
       "RC_UNITS                0\n",
       "LAND_SF                 0\n",
       "GROSS_AREA              0\n",
       "LIVING_AREA             0\n",
       "LAND_VALUE              0\n",
       "BLDG_VALUE              0\n",
       "TOTAL_VALUE             0\n",
       "GROSS_TAX               0\n",
       "YR_BUILT                0\n",
       "YR_REMODEL              0\n",
       "STRUCTURE_CLASS         0\n",
       "ROOF_STRUCTURE          0\n",
       "ROOF_COVER              0\n",
       "INT_WALL            13855\n",
       "EXT_FINISHED          123\n",
       "INT_COND            13858\n",
       "EXT_COND            13486\n",
       "OVERALL_COND         7066\n",
       "BED_RMS                 0\n",
       "FULL_BTH                0\n",
       "HLF_BTH                 0\n",
       "KITCHEN                 0\n",
       "TT_RMS                  0\n",
       "BDRM_COND           75635\n",
       "BTHRM_STYLE1        13767\n",
       "BTHRM_STYLE2        60718\n",
       "BTHRM_STYLE3       108432\n",
       "KITCHEN_TYPE        13876\n",
       "KITCHEN_STYLE1      13873\n",
       "KITCHEN_STYLE2     112169\n",
       "KITCHEN_STYLE3     129908\n",
       "HEAT_TYPE           13859\n",
       "HEAT_FUEL           75354\n",
       "AC_TYPE             13860\n",
       "FIRE_PLACE              0\n",
       "NUM_PARKING             0\n",
       "PROP_VIEW           13730\n",
       "CORNER_UNIT         75345\n",
       "dtype: int64"
      ]
     },
     "execution_count": 40,
     "metadata": {},
     "output_type": "execute_result"
    }
   ],
   "source": [
    "cleaned.isnull().sum()"
   ]
  },
  {
   "cell_type": "markdown",
   "metadata": {},
   "source": [
    "Let's take care of INT_WALL. (and likely drop rows missing EXT_FINISHED)"
   ]
  },
  {
   "cell_type": "code",
   "execution_count": 41,
   "metadata": {},
   "outputs": [
    {
     "data": {
      "text/plain": [
       "N - Normal         125758\n",
       "E - Elaborate        4314\n",
       "S - Substandard        78\n",
       "G - Good                2\n",
       "Name: INT_WALL, dtype: int64"
      ]
     },
     "execution_count": 41,
     "metadata": {},
     "output_type": "execute_result"
    }
   ],
   "source": [
    "cleaned[\"INT_WALL\"].value_counts()"
   ]
  },
  {
   "cell_type": "markdown",
   "metadata": {},
   "source": [
    "It might just make sense to fill in missing values with \"U - Unknown\".  "
   ]
  },
  {
   "cell_type": "code",
   "execution_count": 42,
   "metadata": {},
   "outputs": [
    {
     "data": {
      "text/plain": [
       "B - Brick/Stone       47081\n",
       "M - Vinyl             39915\n",
       "W - Wood Shake        15441\n",
       "F - Frame/Clapbrd     11759\n",
       "01 - Brick             7759\n",
       "C - Cement Board       5638\n",
       "A - Asbestos           3868\n",
       "G - Glass              2826\n",
       "09 - Wood Siding       1798\n",
       "S - Stucco             1227\n",
       "03 - Poured Concr      1066\n",
       "P - Asphalt             943\n",
       "10 - Alum/Vinyl         913\n",
       "12 - Conc Block         752\n",
       "V - Brck/Stn Venr       685\n",
       "U - Alum Siding         682\n",
       "02 - Stone              342\n",
       "O - Other               249\n",
       "11 - Metal Siding       195\n",
       "K - Concrete            164\n",
       "04 - Precast Concr      154\n",
       "08 - Stucco             143\n",
       "06 - Metal/Glass        130\n",
       "05 - Concr & Glass       63\n",
       "15 - Corrug Siding       55\n",
       "07 - Stone/Marble        32\n",
       "14 - Hollow Tile          3\n",
       "13 - Br Sill/Sash         1\n",
       "Name: EXT_FINISHED, dtype: int64"
      ]
     },
     "execution_count": 42,
     "metadata": {},
     "output_type": "execute_result"
    }
   ],
   "source": [
    "cleaned[\"EXT_FINISHED\"].value_counts()"
   ]
  },
  {
   "cell_type": "markdown",
   "metadata": {},
   "source": [
    "EXT_FINISHED could just be filled with O - Other"
   ]
  },
  {
   "cell_type": "code",
   "execution_count": 43,
   "metadata": {},
   "outputs": [],
   "source": [
    "cleaned[\"INT_WALL\"].fillna(\"U - Unknown\",inplace=True)\n",
    "cleaned[\"EXT_FINISHED\"].fillna(\"O - Other\",inplace=True)"
   ]
  },
  {
   "cell_type": "code",
   "execution_count": 44,
   "metadata": {},
   "outputs": [
    {
     "data": {
      "text/plain": [
       "PID                     0\n",
       "ST_NUM                  0\n",
       "ST_NAME                 0\n",
       "ZIPCODE                 0\n",
       "NUM_BLDGS               0\n",
       "LU                      0\n",
       "BLDG_TYPE               0\n",
       "OWN_OCC                 0\n",
       "RES_UNITS               0\n",
       "COM_UNITS               0\n",
       "RC_UNITS                0\n",
       "LAND_SF                 0\n",
       "GROSS_AREA              0\n",
       "LIVING_AREA             0\n",
       "LAND_VALUE              0\n",
       "BLDG_VALUE              0\n",
       "TOTAL_VALUE             0\n",
       "GROSS_TAX               0\n",
       "YR_BUILT                0\n",
       "YR_REMODEL              0\n",
       "STRUCTURE_CLASS         0\n",
       "ROOF_STRUCTURE          0\n",
       "ROOF_COVER              0\n",
       "INT_WALL                0\n",
       "EXT_FINISHED            0\n",
       "INT_COND            13858\n",
       "EXT_COND            13486\n",
       "OVERALL_COND         7066\n",
       "BED_RMS                 0\n",
       "FULL_BTH                0\n",
       "HLF_BTH                 0\n",
       "KITCHEN                 0\n",
       "TT_RMS                  0\n",
       "BDRM_COND           75635\n",
       "BTHRM_STYLE1        13767\n",
       "BTHRM_STYLE2        60718\n",
       "BTHRM_STYLE3       108432\n",
       "KITCHEN_TYPE        13876\n",
       "KITCHEN_STYLE1      13873\n",
       "KITCHEN_STYLE2     112169\n",
       "KITCHEN_STYLE3     129908\n",
       "HEAT_TYPE           13859\n",
       "HEAT_FUEL           75354\n",
       "AC_TYPE             13860\n",
       "FIRE_PLACE              0\n",
       "NUM_PARKING             0\n",
       "PROP_VIEW           13730\n",
       "CORNER_UNIT         75345\n",
       "dtype: int64"
      ]
     },
     "execution_count": 44,
     "metadata": {},
     "output_type": "execute_result"
    }
   ],
   "source": [
    "cleaned.isnull().sum()"
   ]
  },
  {
   "cell_type": "markdown",
   "metadata": {},
   "source": [
    "The next variables to fill in are INT_COND, EXT_COND and OVERALL_COND."
   ]
  },
  {
   "cell_type": "code",
   "execution_count": 45,
   "metadata": {},
   "outputs": [
    {
     "data": {
      "text/plain": [
       "A - Average      74921\n",
       "G - Good         47658\n",
       "E - Excellent     5682\n",
       "F - Fair          2192\n",
       "P - Poor            68\n",
       "Name: EXT_COND, dtype: int64"
      ]
     },
     "execution_count": 45,
     "metadata": {},
     "output_type": "execute_result"
    }
   ],
   "source": [
    "cleaned[\"EXT_COND\"].value_counts()"
   ]
  },
  {
   "cell_type": "code",
   "execution_count": 46,
   "metadata": {},
   "outputs": [
    {
     "data": {
      "text/plain": [
       "A - Average      64420\n",
       "G - Good         53068\n",
       "E - Excellent    11362\n",
       "F - Fair          1210\n",
       "P - Poor            89\n",
       "Name: INT_COND, dtype: int64"
      ]
     },
     "execution_count": 46,
     "metadata": {},
     "output_type": "execute_result"
    }
   ],
   "source": [
    "cleaned[\"INT_COND\"].value_counts()"
   ]
  },
  {
   "cell_type": "code",
   "execution_count": 47,
   "metadata": {},
   "outputs": [
    {
     "data": {
      "text/plain": [
       "A - Average                103166\n",
       "G - Good                    29076\n",
       "VG - Very Good               1343\n",
       "E - Excellent                1149\n",
       "EX - Excellent               1060\n",
       "F - Fair                     1017\n",
       "P - Poor                       98\n",
       "US - Unsound                   20\n",
       "VP - Very Poor                 11\n",
       "AVG - Default - Average         1\n",
       "Name: OVERALL_COND, dtype: int64"
      ]
     },
     "execution_count": 47,
     "metadata": {},
     "output_type": "execute_result"
    }
   ],
   "source": [
    "cleaned[\"OVERALL_COND\"].value_counts()"
   ]
  },
  {
   "cell_type": "markdown",
   "metadata": {},
   "source": [
    "Because OVERALL_COND has less missing values overall, it probably is best to just ignore/drop EXT_COND and INT_COND and assume that OVERALL_COND captures that information well enough. In general, interior condition and exterior condition seem to be relatively similar anyway."
   ]
  },
  {
   "cell_type": "code",
   "execution_count": 48,
   "metadata": {},
   "outputs": [],
   "source": [
    "cleaned.drop([\"EXT_COND\", \"INT_COND\"],axis = 1,inplace=True)"
   ]
  },
  {
   "cell_type": "code",
   "execution_count": 49,
   "metadata": {},
   "outputs": [],
   "source": [
    "cleaned[\"OVERALL_COND\"].fillna(\"AVG - Default - Average\",inplace=True)"
   ]
  },
  {
   "cell_type": "code",
   "execution_count": 50,
   "metadata": {},
   "outputs": [
    {
     "data": {
      "text/plain": [
       "PID                     0\n",
       "ST_NUM                  0\n",
       "ST_NAME                 0\n",
       "ZIPCODE                 0\n",
       "NUM_BLDGS               0\n",
       "LU                      0\n",
       "BLDG_TYPE               0\n",
       "OWN_OCC                 0\n",
       "RES_UNITS               0\n",
       "COM_UNITS               0\n",
       "RC_UNITS                0\n",
       "LAND_SF                 0\n",
       "GROSS_AREA              0\n",
       "LIVING_AREA             0\n",
       "LAND_VALUE              0\n",
       "BLDG_VALUE              0\n",
       "TOTAL_VALUE             0\n",
       "GROSS_TAX               0\n",
       "YR_BUILT                0\n",
       "YR_REMODEL              0\n",
       "STRUCTURE_CLASS         0\n",
       "ROOF_STRUCTURE          0\n",
       "ROOF_COVER              0\n",
       "INT_WALL                0\n",
       "EXT_FINISHED            0\n",
       "OVERALL_COND            0\n",
       "BED_RMS                 0\n",
       "FULL_BTH                0\n",
       "HLF_BTH                 0\n",
       "KITCHEN                 0\n",
       "TT_RMS                  0\n",
       "BDRM_COND           75635\n",
       "BTHRM_STYLE1        13767\n",
       "BTHRM_STYLE2        60718\n",
       "BTHRM_STYLE3       108432\n",
       "KITCHEN_TYPE        13876\n",
       "KITCHEN_STYLE1      13873\n",
       "KITCHEN_STYLE2     112169\n",
       "KITCHEN_STYLE3     129908\n",
       "HEAT_TYPE           13859\n",
       "HEAT_FUEL           75354\n",
       "AC_TYPE             13860\n",
       "FIRE_PLACE              0\n",
       "NUM_PARKING             0\n",
       "PROP_VIEW           13730\n",
       "CORNER_UNIT         75345\n",
       "dtype: int64"
      ]
     },
     "execution_count": 50,
     "metadata": {},
     "output_type": "execute_result"
    }
   ],
   "source": [
    "cleaned.isnull().sum()"
   ]
  },
  {
   "cell_type": "markdown",
   "metadata": {},
   "source": [
    "The next variable with missing data is BDRM_COND."
   ]
  },
  {
   "cell_type": "code",
   "execution_count": 51,
   "metadata": {},
   "outputs": [
    {
     "data": {
      "text/plain": [
       "Average      53123\n",
       "Good         13355\n",
       "Excellent      966\n",
       "Fair           865\n",
       "Poor            63\n",
       "Name: BDRM_COND, dtype: int64"
      ]
     },
     "execution_count": 51,
     "metadata": {},
     "output_type": "execute_result"
    }
   ],
   "source": [
    "cleaned[\"BDRM_COND\"].value_counts()"
   ]
  },
  {
   "cell_type": "code",
   "execution_count": 52,
   "metadata": {},
   "outputs": [
    {
     "data": {
      "text/plain": [
       "R1    30447\n",
       "R2    16946\n",
       "R3    13575\n",
       "C      3539\n",
       "RC     2670\n",
       "A      2510\n",
       "R4     2490\n",
       "E      2344\n",
       "I       290\n",
       "CD      289\n",
       "CM      256\n",
       "EA      185\n",
       "CP       40\n",
       "CC       36\n",
       "CL       18\n",
       "Name: LU, dtype: int64"
      ]
     },
     "execution_count": 52,
     "metadata": {},
     "output_type": "execute_result"
    }
   ],
   "source": [
    "cleaned[cleaned[\"BDRM_COND\"].isnull()][\"LU\"].value_counts()"
   ]
  },
  {
   "cell_type": "markdown",
   "metadata": {},
   "source": [
    "Unexpectedly, the vast majority of properties without bedroom condition information are residential properties. And because there are so many rows without this information, it makes sense to drop the variable entirely."
   ]
  },
  {
   "cell_type": "code",
   "execution_count": 53,
   "metadata": {},
   "outputs": [],
   "source": [
    "cleaned.drop(\"BDRM_COND\",inplace=True,axis=1)"
   ]
  },
  {
   "cell_type": "markdown",
   "metadata": {},
   "source": [
    "Let's look at what's going on with the bathrooms next."
   ]
  },
  {
   "cell_type": "code",
   "execution_count": 54,
   "metadata": {},
   "outputs": [
    {
     "data": {
      "text/plain": [
       "M - Modern           17489\n",
       "S - Semi-Modern      14402\n",
       "N - No Remodeling     2020\n",
       "L - Luxury            1664\n",
       "Name: BTHRM_STYLE3, dtype: int64"
      ]
     },
     "execution_count": 54,
     "metadata": {},
     "output_type": "execute_result"
    }
   ],
   "source": [
    "cleaned[\"BTHRM_STYLE3\"].value_counts()"
   ]
  },
  {
   "cell_type": "code",
   "execution_count": 55,
   "metadata": {},
   "outputs": [
    {
     "data": {
      "text/plain": [
       "C     3537\n",
       "RC    2589\n",
       "R4    2480\n",
       "A     2333\n",
       "E     2166\n",
       "I      290\n",
       "CM     147\n",
       "EA     136\n",
       "CP      37\n",
       "CC      34\n",
       "CL      18\n",
       "Name: LU, dtype: int64"
      ]
     },
     "execution_count": 55,
     "metadata": {},
     "output_type": "execute_result"
    }
   ],
   "source": [
    "cleaned[cleaned[\"BTHRM_STYLE1\"].isnull()][\"LU\"].value_counts()"
   ]
  },
  {
   "cell_type": "markdown",
   "metadata": {},
   "source": [
    "I think it's fair to assume that a missing bathroom style (1, 2 or 3) means that a property does not have that many bathrooms. I will create a new entry for this variable, \"NB - No Bathroom\"."
   ]
  },
  {
   "cell_type": "code",
   "execution_count": 56,
   "metadata": {},
   "outputs": [],
   "source": [
    "cleaned[\"BTHRM_STYLE1\"].fillna(\"NB - No Bathroom\",inplace=True)\n",
    "cleaned[\"BTHRM_STYLE2\"].fillna(\"NB - No Bathroom\",inplace=True)\n",
    "cleaned[\"BTHRM_STYLE3\"].fillna(\"NB - No Bathroom\",inplace=True)"
   ]
  },
  {
   "cell_type": "markdown",
   "metadata": {},
   "source": [
    "This same logic probably applies to kitchens as well."
   ]
  },
  {
   "cell_type": "code",
   "execution_count": 57,
   "metadata": {},
   "outputs": [
    {
     "data": {
      "text/plain": [
       "O - One Person                 42112\n",
       "1F - 1 Full Eat In Kitchens    29416\n",
       "F - Full Eat In                23688\n",
       "2F - 2 Full Eat In Kitchens    17054\n",
       "3F - 3 Full Eat In Kitchens    12310\n",
       "P - Pullman                     2741\n",
       "0F - 0 Full Eat In Kitchens     2664\n",
       "N - None                         117\n",
       "4F - 4 Full Eat In Kitchens       28\n",
       "5F - 5 Full Eat In Kitchens        1\n",
       "Name: KITCHEN_TYPE, dtype: int64"
      ]
     },
     "execution_count": 57,
     "metadata": {},
     "output_type": "execute_result"
    }
   ],
   "source": [
    "cleaned[\"KITCHEN_TYPE\"].value_counts()"
   ]
  },
  {
   "cell_type": "markdown",
   "metadata": {},
   "source": [
    "What types of bulidings have NAN for kitchen type?"
   ]
  },
  {
   "cell_type": "code",
   "execution_count": 58,
   "metadata": {},
   "outputs": [
    {
     "data": {
      "text/plain": [
       "C     3537\n",
       "RC    2589\n",
       "R4    2480\n",
       "A     2333\n",
       "E     2166\n",
       "I      290\n",
       "CM     248\n",
       "EA     136\n",
       "CP      37\n",
       "CC      35\n",
       "CL      18\n",
       "CD       2\n",
       "R2       2\n",
       "R3       2\n",
       "R1       1\n",
       "Name: LU, dtype: int64"
      ]
     },
     "execution_count": 58,
     "metadata": {},
     "output_type": "execute_result"
    }
   ],
   "source": [
    "cleaned[cleaned[\"KITCHEN_TYPE\"].isna()][\"LU\"].value_counts()"
   ]
  },
  {
   "cell_type": "markdown",
   "metadata": {},
   "source": [
    "It seems that mainly commerical properties have no kitchens, which makes sense. We can just fill in missing data with \"N - None\". (TODO: notice that R4 also has missing data, so this would be best filled in differently.)"
   ]
  },
  {
   "cell_type": "code",
   "execution_count": 59,
   "metadata": {},
   "outputs": [],
   "source": [
    "cleaned[\"KITCHEN_TYPE\"].fillna(\"N - None\",inplace=True)"
   ]
  },
  {
   "cell_type": "code",
   "execution_count": 60,
   "metadata": {},
   "outputs": [
    {
     "data": {
      "text/plain": [
       "S - Semi-Modern      18807\n",
       "M - Modern            9952\n",
       "N - No Remodeling     2997\n",
       "L - Luxury              82\n",
       "Name: KITCHEN_STYLE2, dtype: int64"
      ]
     },
     "execution_count": 60,
     "metadata": {},
     "output_type": "execute_result"
    }
   ],
   "source": [
    "cleaned[\"KITCHEN_STYLE2\"].value_counts()"
   ]
  },
  {
   "cell_type": "code",
   "execution_count": 61,
   "metadata": {},
   "outputs": [
    {
     "data": {
      "text/plain": [
       "C     3537\n",
       "RC    2589\n",
       "R4    2479\n",
       "A     2335\n",
       "E     2167\n",
       "I      290\n",
       "CM     248\n",
       "EA     136\n",
       "CP      37\n",
       "CC      35\n",
       "CL      18\n",
       "CD       2\n",
       "Name: LU, dtype: int64"
      ]
     },
     "execution_count": 61,
     "metadata": {},
     "output_type": "execute_result"
    }
   ],
   "source": [
    "cleaned[cleaned[\"KITCHEN_STYLE1\"].isnull()][\"LU\"].value_counts()"
   ]
  },
  {
   "cell_type": "markdown",
   "metadata": {},
   "source": [
    "Like with bathrooms, missing data for a specific number of kitchen style likely just means that the property doesn't have that many kitchens."
   ]
  },
  {
   "cell_type": "code",
   "execution_count": 62,
   "metadata": {},
   "outputs": [],
   "source": [
    "cleaned[\"KITCHEN_STYLE1\"].fillna(\"NK - No Kitchen\",inplace=True)\n",
    "cleaned[\"KITCHEN_STYLE2\"].fillna(\"NK - No Kitchen\",inplace=True)\n",
    "cleaned[\"KITCHEN_STYLE3\"].fillna(\"NK - No Kitchen\",inplace=True)"
   ]
  },
  {
   "cell_type": "code",
   "execution_count": 63,
   "metadata": {},
   "outputs": [
    {
     "data": {
      "text/plain": [
       "PID                    0\n",
       "ST_NUM                 0\n",
       "ST_NAME                0\n",
       "ZIPCODE                0\n",
       "NUM_BLDGS              0\n",
       "LU                     0\n",
       "BLDG_TYPE              0\n",
       "OWN_OCC                0\n",
       "RES_UNITS              0\n",
       "COM_UNITS              0\n",
       "RC_UNITS               0\n",
       "LAND_SF                0\n",
       "GROSS_AREA             0\n",
       "LIVING_AREA            0\n",
       "LAND_VALUE             0\n",
       "BLDG_VALUE             0\n",
       "TOTAL_VALUE            0\n",
       "GROSS_TAX              0\n",
       "YR_BUILT               0\n",
       "YR_REMODEL             0\n",
       "STRUCTURE_CLASS        0\n",
       "ROOF_STRUCTURE         0\n",
       "ROOF_COVER             0\n",
       "INT_WALL               0\n",
       "EXT_FINISHED           0\n",
       "OVERALL_COND           0\n",
       "BED_RMS                0\n",
       "FULL_BTH               0\n",
       "HLF_BTH                0\n",
       "KITCHEN                0\n",
       "TT_RMS                 0\n",
       "BTHRM_STYLE1           0\n",
       "BTHRM_STYLE2           0\n",
       "BTHRM_STYLE3           0\n",
       "KITCHEN_TYPE           0\n",
       "KITCHEN_STYLE1         0\n",
       "KITCHEN_STYLE2         0\n",
       "KITCHEN_STYLE3         0\n",
       "HEAT_TYPE          13859\n",
       "HEAT_FUEL          75354\n",
       "AC_TYPE            13860\n",
       "FIRE_PLACE             0\n",
       "NUM_PARKING            0\n",
       "PROP_VIEW          13730\n",
       "CORNER_UNIT        75345\n",
       "dtype: int64"
      ]
     },
     "execution_count": 63,
     "metadata": {},
     "output_type": "execute_result"
    }
   ],
   "source": [
    "cleaned.isna().sum()"
   ]
  },
  {
   "cell_type": "markdown",
   "metadata": {},
   "source": [
    "Now let's look at HEAT_TYPE, HEAT_FUEL, and AC_TYPE. Properties with no AC_TYPE are likely the same as properties without HEAT_TYPE."
   ]
  },
  {
   "cell_type": "code",
   "execution_count": 64,
   "metadata": {},
   "outputs": [
    {
     "data": {
      "text/plain": [
       "W - Ht Water/Steam    71739\n",
       "F - Forced Hot Air    47131\n",
       "E - Electric           5868\n",
       "P - Heat Pump          4596\n",
       "S - Space Heat          685\n",
       "N - None                 89\n",
       "O - Other                40\n",
       "Name: HEAT_TYPE, dtype: int64"
      ]
     },
     "execution_count": 64,
     "metadata": {},
     "output_type": "execute_result"
    }
   ],
   "source": [
    "cleaned[\"HEAT_TYPE\"].value_counts()"
   ]
  },
  {
   "cell_type": "code",
   "execution_count": 65,
   "metadata": {},
   "outputs": [
    {
     "data": {
      "text/plain": [
       "I - Indiv. Cntrl      42215\n",
       "Y - Self Contained    17437\n",
       "C - Common             8031\n",
       "N - None                970\n",
       "Name: HEAT_FUEL, dtype: int64"
      ]
     },
     "execution_count": 65,
     "metadata": {},
     "output_type": "execute_result"
    }
   ],
   "source": [
    "cleaned[\"HEAT_FUEL\"].value_counts()"
   ]
  },
  {
   "cell_type": "code",
   "execution_count": 66,
   "metadata": {},
   "outputs": [
    {
     "data": {
      "text/plain": [
       "N - None           79796\n",
       "C - Central AC     49459\n",
       "D - Ductless AC      891\n",
       "Y - Yes                1\n",
       "Name: AC_TYPE, dtype: int64"
      ]
     },
     "execution_count": 66,
     "metadata": {},
     "output_type": "execute_result"
    }
   ],
   "source": [
    "cleaned[\"AC_TYPE\"].value_counts()"
   ]
  },
  {
   "cell_type": "markdown",
   "metadata": {},
   "source": [
    "HEAT_FUEL seems mostly pointless and difficult to fill in, so it will simply be dropped."
   ]
  },
  {
   "cell_type": "code",
   "execution_count": 67,
   "metadata": {},
   "outputs": [
    {
     "data": {
      "text/plain": [
       "C     3539\n",
       "RC    2588\n",
       "R4    2479\n",
       "A     2330\n",
       "E     2166\n",
       "I      290\n",
       "CM     245\n",
       "EA     136\n",
       "CP      35\n",
       "CC      34\n",
       "CL      18\n",
       "Name: LU, dtype: int64"
      ]
     },
     "execution_count": 67,
     "metadata": {},
     "output_type": "execute_result"
    }
   ],
   "source": [
    "cleaned[cleaned[\"AC_TYPE\"].isna()][\"LU\"].value_counts()"
   ]
  },
  {
   "cell_type": "code",
   "execution_count": 68,
   "metadata": {},
   "outputs": [
    {
     "data": {
      "text/plain": [
       "C     3538\n",
       "RC    2588\n",
       "R4    2479\n",
       "A     2331\n",
       "E     2166\n",
       "I      290\n",
       "CM     244\n",
       "EA     136\n",
       "CP      35\n",
       "CC      34\n",
       "CL      18\n",
       "Name: LU, dtype: int64"
      ]
     },
     "execution_count": 68,
     "metadata": {},
     "output_type": "execute_result"
    }
   ],
   "source": [
    "cleaned[cleaned[\"HEAT_TYPE\"].isna()][\"LU\"].value_counts()"
   ]
  },
  {
   "cell_type": "markdown",
   "metadata": {},
   "source": [
    "These are most definitely the same properties and they seem to mainly be commercial/mixed properties. It is very strange for buildings in Boston to not have heat, though. For AC_TYPE, I will fill in the data as \"N - None\". For HEAT_TYPE, however, I will fill in the data with \"U - Unknown\" because I think this many buildings definitely couldn't be lacking heat."
   ]
  },
  {
   "cell_type": "code",
   "execution_count": 69,
   "metadata": {},
   "outputs": [],
   "source": [
    "cleaned.drop(\"HEAT_FUEL\",axis = 1, inplace=True)\n",
    "cleaned[\"AC_TYPE\"].fillna(\"N - None\", inplace=True)\n",
    "cleaned[\"HEAT_TYPE\"].fillna(\"U - Unknown\", inplace=True)"
   ]
  },
  {
   "cell_type": "code",
   "execution_count": 70,
   "metadata": {},
   "outputs": [
    {
     "data": {
      "text/plain": [
       "PID                    0\n",
       "ST_NUM                 0\n",
       "ST_NAME                0\n",
       "ZIPCODE                0\n",
       "NUM_BLDGS              0\n",
       "LU                     0\n",
       "BLDG_TYPE              0\n",
       "OWN_OCC                0\n",
       "RES_UNITS              0\n",
       "COM_UNITS              0\n",
       "RC_UNITS               0\n",
       "LAND_SF                0\n",
       "GROSS_AREA             0\n",
       "LIVING_AREA            0\n",
       "LAND_VALUE             0\n",
       "BLDG_VALUE             0\n",
       "TOTAL_VALUE            0\n",
       "GROSS_TAX              0\n",
       "YR_BUILT               0\n",
       "YR_REMODEL             0\n",
       "STRUCTURE_CLASS        0\n",
       "ROOF_STRUCTURE         0\n",
       "ROOF_COVER             0\n",
       "INT_WALL               0\n",
       "EXT_FINISHED           0\n",
       "OVERALL_COND           0\n",
       "BED_RMS                0\n",
       "FULL_BTH               0\n",
       "HLF_BTH                0\n",
       "KITCHEN                0\n",
       "TT_RMS                 0\n",
       "BTHRM_STYLE1           0\n",
       "BTHRM_STYLE2           0\n",
       "BTHRM_STYLE3           0\n",
       "KITCHEN_TYPE           0\n",
       "KITCHEN_STYLE1         0\n",
       "KITCHEN_STYLE2         0\n",
       "KITCHEN_STYLE3         0\n",
       "HEAT_TYPE              0\n",
       "AC_TYPE                0\n",
       "FIRE_PLACE             0\n",
       "NUM_PARKING            0\n",
       "PROP_VIEW          13730\n",
       "CORNER_UNIT        75345\n",
       "dtype: int64"
      ]
     },
     "execution_count": 70,
     "metadata": {},
     "output_type": "execute_result"
    }
   ],
   "source": [
    "cleaned.isna().sum()"
   ]
  },
  {
   "cell_type": "code",
   "execution_count": 71,
   "metadata": {},
   "outputs": [
    {
     "data": {
      "text/plain": [
       "A - Average      107403\n",
       "G - Good          11874\n",
       "F - Fair           6037\n",
       "E - Excellent      4149\n",
       "P - Poor            530\n",
       "S - Special         284\n",
       "Name: PROP_VIEW, dtype: int64"
      ]
     },
     "execution_count": 71,
     "metadata": {},
     "output_type": "execute_result"
    }
   ],
   "source": [
    "cleaned[\"PROP_VIEW\"].value_counts()"
   ]
  },
  {
   "cell_type": "markdown",
   "metadata": {},
   "source": [
    "Admittedly, I don't know very much about the meaning of this variable. Additionally, because more than half of the data is the same value, I think I can just drop it from the analysis."
   ]
  },
  {
   "cell_type": "code",
   "execution_count": 72,
   "metadata": {},
   "outputs": [],
   "source": [
    "cleaned.drop(\"PROP_VIEW\",axis=1,inplace=True)"
   ]
  },
  {
   "cell_type": "markdown",
   "metadata": {},
   "source": [
    "The last variable to fill in is CORNER_UNIT"
   ]
  },
  {
   "cell_type": "code",
   "execution_count": 73,
   "metadata": {},
   "outputs": [
    {
     "data": {
      "text/plain": [
       "N - No     55727\n",
       "Y - Yes    12935\n",
       "Name: CORNER_UNIT, dtype: int64"
      ]
     },
     "execution_count": 73,
     "metadata": {},
     "output_type": "execute_result"
    }
   ],
   "source": [
    "cleaned[\"CORNER_UNIT\"].value_counts()"
   ]
  },
  {
   "cell_type": "code",
   "execution_count": 74,
   "metadata": {},
   "outputs": [],
   "source": [
    "cleaned[\"CORNER_UNIT\"].fillna(\"N - No\",inplace=True)"
   ]
  },
  {
   "cell_type": "code",
   "execution_count": 75,
   "metadata": {},
   "outputs": [
    {
     "data": {
      "text/plain": [
       "PID                0\n",
       "ST_NUM             0\n",
       "ST_NAME            0\n",
       "ZIPCODE            0\n",
       "NUM_BLDGS          0\n",
       "LU                 0\n",
       "BLDG_TYPE          0\n",
       "OWN_OCC            0\n",
       "RES_UNITS          0\n",
       "COM_UNITS          0\n",
       "RC_UNITS           0\n",
       "LAND_SF            0\n",
       "GROSS_AREA         0\n",
       "LIVING_AREA        0\n",
       "LAND_VALUE         0\n",
       "BLDG_VALUE         0\n",
       "TOTAL_VALUE        0\n",
       "GROSS_TAX          0\n",
       "YR_BUILT           0\n",
       "YR_REMODEL         0\n",
       "STRUCTURE_CLASS    0\n",
       "ROOF_STRUCTURE     0\n",
       "ROOF_COVER         0\n",
       "INT_WALL           0\n",
       "EXT_FINISHED       0\n",
       "OVERALL_COND       0\n",
       "BED_RMS            0\n",
       "FULL_BTH           0\n",
       "HLF_BTH            0\n",
       "KITCHEN            0\n",
       "TT_RMS             0\n",
       "BTHRM_STYLE1       0\n",
       "BTHRM_STYLE2       0\n",
       "BTHRM_STYLE3       0\n",
       "KITCHEN_TYPE       0\n",
       "KITCHEN_STYLE1     0\n",
       "KITCHEN_STYLE2     0\n",
       "KITCHEN_STYLE3     0\n",
       "HEAT_TYPE          0\n",
       "AC_TYPE            0\n",
       "FIRE_PLACE         0\n",
       "NUM_PARKING        0\n",
       "CORNER_UNIT        0\n",
       "dtype: int64"
      ]
     },
     "execution_count": 75,
     "metadata": {},
     "output_type": "execute_result"
    }
   ],
   "source": [
    "cleaned.isna().sum()"
   ]
  },
  {
   "cell_type": "markdown",
   "metadata": {},
   "source": [
    "All of the data is now filled in!"
   ]
  },
  {
   "cell_type": "code",
   "execution_count": 76,
   "metadata": {},
   "outputs": [
    {
     "data": {
      "text/html": [
       "<div>\n",
       "<style scoped>\n",
       "    .dataframe tbody tr th:only-of-type {\n",
       "        vertical-align: middle;\n",
       "    }\n",
       "\n",
       "    .dataframe tbody tr th {\n",
       "        vertical-align: top;\n",
       "    }\n",
       "\n",
       "    .dataframe thead th {\n",
       "        text-align: right;\n",
       "    }\n",
       "</style>\n",
       "<table border=\"1\" class=\"dataframe\">\n",
       "  <thead>\n",
       "    <tr style=\"text-align: right;\">\n",
       "      <th></th>\n",
       "      <th>PID</th>\n",
       "      <th>ST_NUM</th>\n",
       "      <th>ST_NAME</th>\n",
       "      <th>ZIPCODE</th>\n",
       "      <th>NUM_BLDGS</th>\n",
       "      <th>LU</th>\n",
       "      <th>BLDG_TYPE</th>\n",
       "      <th>OWN_OCC</th>\n",
       "      <th>RES_UNITS</th>\n",
       "      <th>COM_UNITS</th>\n",
       "      <th>...</th>\n",
       "      <th>BTHRM_STYLE3</th>\n",
       "      <th>KITCHEN_TYPE</th>\n",
       "      <th>KITCHEN_STYLE1</th>\n",
       "      <th>KITCHEN_STYLE2</th>\n",
       "      <th>KITCHEN_STYLE3</th>\n",
       "      <th>HEAT_TYPE</th>\n",
       "      <th>AC_TYPE</th>\n",
       "      <th>FIRE_PLACE</th>\n",
       "      <th>NUM_PARKING</th>\n",
       "      <th>CORNER_UNIT</th>\n",
       "    </tr>\n",
       "  </thead>\n",
       "  <tbody>\n",
       "    <tr>\n",
       "      <th>0</th>\n",
       "      <td>100001000</td>\n",
       "      <td>104 A 104</td>\n",
       "      <td>PUTNAM ST</td>\n",
       "      <td>2128</td>\n",
       "      <td>1</td>\n",
       "      <td>R3</td>\n",
       "      <td>RE - Row End</td>\n",
       "      <td>Y</td>\n",
       "      <td>0</td>\n",
       "      <td>0</td>\n",
       "      <td>...</td>\n",
       "      <td>S - Semi-Modern</td>\n",
       "      <td>3F - 3 Full Eat In Kitchens</td>\n",
       "      <td>S - Semi-Modern</td>\n",
       "      <td>S - Semi-Modern</td>\n",
       "      <td>S - Semi-Modern</td>\n",
       "      <td>W - Ht Water/Steam</td>\n",
       "      <td>N - None</td>\n",
       "      <td>0</td>\n",
       "      <td>3</td>\n",
       "      <td>N - No</td>\n",
       "    </tr>\n",
       "    <tr>\n",
       "      <th>1</th>\n",
       "      <td>100002000</td>\n",
       "      <td>197</td>\n",
       "      <td>LEXINGTON ST</td>\n",
       "      <td>2128</td>\n",
       "      <td>1</td>\n",
       "      <td>R3</td>\n",
       "      <td>RM - Row Middle</td>\n",
       "      <td>Y</td>\n",
       "      <td>0</td>\n",
       "      <td>0</td>\n",
       "      <td>...</td>\n",
       "      <td>M - Modern</td>\n",
       "      <td>3F - 3 Full Eat In Kitchens</td>\n",
       "      <td>M - Modern</td>\n",
       "      <td>M - Modern</td>\n",
       "      <td>M - Modern</td>\n",
       "      <td>F - Forced Hot Air</td>\n",
       "      <td>C - Central AC</td>\n",
       "      <td>0</td>\n",
       "      <td>0</td>\n",
       "      <td>N - No</td>\n",
       "    </tr>\n",
       "    <tr>\n",
       "      <th>2</th>\n",
       "      <td>100003000</td>\n",
       "      <td>199</td>\n",
       "      <td>LEXINGTON ST</td>\n",
       "      <td>2128</td>\n",
       "      <td>1</td>\n",
       "      <td>R3</td>\n",
       "      <td>RM - Row Middle</td>\n",
       "      <td>N</td>\n",
       "      <td>0</td>\n",
       "      <td>0</td>\n",
       "      <td>...</td>\n",
       "      <td>M - Modern</td>\n",
       "      <td>3F - 3 Full Eat In Kitchens</td>\n",
       "      <td>S - Semi-Modern</td>\n",
       "      <td>S - Semi-Modern</td>\n",
       "      <td>S - Semi-Modern</td>\n",
       "      <td>S - Space Heat</td>\n",
       "      <td>N - None</td>\n",
       "      <td>0</td>\n",
       "      <td>0</td>\n",
       "      <td>N - No</td>\n",
       "    </tr>\n",
       "    <tr>\n",
       "      <th>3</th>\n",
       "      <td>100004000</td>\n",
       "      <td>201</td>\n",
       "      <td>LEXINGTON ST</td>\n",
       "      <td>2128</td>\n",
       "      <td>1</td>\n",
       "      <td>R3</td>\n",
       "      <td>RM - Row Middle</td>\n",
       "      <td>N</td>\n",
       "      <td>0</td>\n",
       "      <td>0</td>\n",
       "      <td>...</td>\n",
       "      <td>S - Semi-Modern</td>\n",
       "      <td>3F - 3 Full Eat In Kitchens</td>\n",
       "      <td>S - Semi-Modern</td>\n",
       "      <td>S - Semi-Modern</td>\n",
       "      <td>S - Semi-Modern</td>\n",
       "      <td>W - Ht Water/Steam</td>\n",
       "      <td>N - None</td>\n",
       "      <td>0</td>\n",
       "      <td>0</td>\n",
       "      <td>N - No</td>\n",
       "    </tr>\n",
       "    <tr>\n",
       "      <th>4</th>\n",
       "      <td>100005000</td>\n",
       "      <td>203</td>\n",
       "      <td>LEXINGTON ST</td>\n",
       "      <td>2128</td>\n",
       "      <td>1</td>\n",
       "      <td>R2</td>\n",
       "      <td>RE - Row End</td>\n",
       "      <td>Y</td>\n",
       "      <td>0</td>\n",
       "      <td>0</td>\n",
       "      <td>...</td>\n",
       "      <td>S - Semi-Modern</td>\n",
       "      <td>2F - 2 Full Eat In Kitchens</td>\n",
       "      <td>S - Semi-Modern</td>\n",
       "      <td>S - Semi-Modern</td>\n",
       "      <td>NK - No Kitchen</td>\n",
       "      <td>W - Ht Water/Steam</td>\n",
       "      <td>N - None</td>\n",
       "      <td>0</td>\n",
       "      <td>0</td>\n",
       "      <td>N - No</td>\n",
       "    </tr>\n",
       "    <tr>\n",
       "      <th>...</th>\n",
       "      <td>...</td>\n",
       "      <td>...</td>\n",
       "      <td>...</td>\n",
       "      <td>...</td>\n",
       "      <td>...</td>\n",
       "      <td>...</td>\n",
       "      <td>...</td>\n",
       "      <td>...</td>\n",
       "      <td>...</td>\n",
       "      <td>...</td>\n",
       "      <td>...</td>\n",
       "      <td>...</td>\n",
       "      <td>...</td>\n",
       "      <td>...</td>\n",
       "      <td>...</td>\n",
       "      <td>...</td>\n",
       "      <td>...</td>\n",
       "      <td>...</td>\n",
       "      <td>...</td>\n",
       "      <td>...</td>\n",
       "      <td>...</td>\n",
       "    </tr>\n",
       "    <tr>\n",
       "      <th>178591</th>\n",
       "      <td>2205665002</td>\n",
       "      <td>14</td>\n",
       "      <td>LAKE ST</td>\n",
       "      <td>2135</td>\n",
       "      <td>1</td>\n",
       "      <td>CD</td>\n",
       "      <td>FS - Free Standing</td>\n",
       "      <td>N</td>\n",
       "      <td>1</td>\n",
       "      <td>0</td>\n",
       "      <td>...</td>\n",
       "      <td>NB - No Bathroom</td>\n",
       "      <td>F - Full Eat In</td>\n",
       "      <td>S - Semi-Modern</td>\n",
       "      <td>NK - No Kitchen</td>\n",
       "      <td>NK - No Kitchen</td>\n",
       "      <td>W - Ht Water/Steam</td>\n",
       "      <td>N - None</td>\n",
       "      <td>1</td>\n",
       "      <td>1</td>\n",
       "      <td>N - No</td>\n",
       "    </tr>\n",
       "    <tr>\n",
       "      <th>178592</th>\n",
       "      <td>2205665004</td>\n",
       "      <td>12</td>\n",
       "      <td>LAKE ST</td>\n",
       "      <td>2135</td>\n",
       "      <td>1</td>\n",
       "      <td>CD</td>\n",
       "      <td>FS - Free Standing</td>\n",
       "      <td>N</td>\n",
       "      <td>1</td>\n",
       "      <td>0</td>\n",
       "      <td>...</td>\n",
       "      <td>NB - No Bathroom</td>\n",
       "      <td>F - Full Eat In</td>\n",
       "      <td>S - Semi-Modern</td>\n",
       "      <td>NK - No Kitchen</td>\n",
       "      <td>NK - No Kitchen</td>\n",
       "      <td>W - Ht Water/Steam</td>\n",
       "      <td>N - None</td>\n",
       "      <td>1</td>\n",
       "      <td>1</td>\n",
       "      <td>N - No</td>\n",
       "    </tr>\n",
       "    <tr>\n",
       "      <th>178595</th>\n",
       "      <td>2205668000</td>\n",
       "      <td>4</td>\n",
       "      <td>LAKE ST</td>\n",
       "      <td>2135</td>\n",
       "      <td>1</td>\n",
       "      <td>R3</td>\n",
       "      <td>CV - Conventional</td>\n",
       "      <td>N</td>\n",
       "      <td>0</td>\n",
       "      <td>0</td>\n",
       "      <td>...</td>\n",
       "      <td>M - Modern</td>\n",
       "      <td>2F - 2 Full Eat In Kitchens</td>\n",
       "      <td>M - Modern</td>\n",
       "      <td>M - Modern</td>\n",
       "      <td>M - Modern</td>\n",
       "      <td>W - Ht Water/Steam</td>\n",
       "      <td>N - None</td>\n",
       "      <td>0</td>\n",
       "      <td>2</td>\n",
       "      <td>N - No</td>\n",
       "    </tr>\n",
       "    <tr>\n",
       "      <th>178596</th>\n",
       "      <td>2205669000</td>\n",
       "      <td>2193  2201</td>\n",
       "      <td>COMMONWEALTH AV</td>\n",
       "      <td>2135</td>\n",
       "      <td>1</td>\n",
       "      <td>C</td>\n",
       "      <td>319 - STRIP RETAIL/ OFFICE</td>\n",
       "      <td>N</td>\n",
       "      <td>0</td>\n",
       "      <td>8</td>\n",
       "      <td>...</td>\n",
       "      <td>NB - No Bathroom</td>\n",
       "      <td>N - None</td>\n",
       "      <td>NK - No Kitchen</td>\n",
       "      <td>NK - No Kitchen</td>\n",
       "      <td>NK - No Kitchen</td>\n",
       "      <td>U - Unknown</td>\n",
       "      <td>N - None</td>\n",
       "      <td>0</td>\n",
       "      <td>0</td>\n",
       "      <td>N - No</td>\n",
       "    </tr>\n",
       "    <tr>\n",
       "      <th>178597</th>\n",
       "      <td>2205670000</td>\n",
       "      <td>2203</td>\n",
       "      <td>COMMONWEALTH AV</td>\n",
       "      <td>2135</td>\n",
       "      <td>3</td>\n",
       "      <td>E</td>\n",
       "      <td>973 - ADMINISTRATIVE BLDG</td>\n",
       "      <td>N</td>\n",
       "      <td>0</td>\n",
       "      <td>0</td>\n",
       "      <td>...</td>\n",
       "      <td>NB - No Bathroom</td>\n",
       "      <td>N - None</td>\n",
       "      <td>NK - No Kitchen</td>\n",
       "      <td>NK - No Kitchen</td>\n",
       "      <td>NK - No Kitchen</td>\n",
       "      <td>U - Unknown</td>\n",
       "      <td>N - None</td>\n",
       "      <td>0</td>\n",
       "      <td>0</td>\n",
       "      <td>N - No</td>\n",
       "    </tr>\n",
       "  </tbody>\n",
       "</table>\n",
       "<p>144007 rows × 43 columns</p>\n",
       "</div>"
      ],
      "text/plain": [
       "               PID      ST_NUM          ST_NAME  ZIPCODE  NUM_BLDGS  LU  \\\n",
       "0        100001000  104 A 104         PUTNAM ST     2128          1  R3   \n",
       "1        100002000       197       LEXINGTON ST     2128          1  R3   \n",
       "2        100003000       199       LEXINGTON ST     2128          1  R3   \n",
       "3        100004000       201       LEXINGTON ST     2128          1  R3   \n",
       "4        100005000       203       LEXINGTON ST     2128          1  R2   \n",
       "...            ...         ...              ...      ...        ...  ..   \n",
       "178591  2205665002        14            LAKE ST     2135          1  CD   \n",
       "178592  2205665004        12            LAKE ST     2135          1  CD   \n",
       "178595  2205668000         4            LAKE ST     2135          1  R3   \n",
       "178596  2205669000  2193  2201  COMMONWEALTH AV     2135          1   C   \n",
       "178597  2205670000      2203    COMMONWEALTH AV     2135          3   E   \n",
       "\n",
       "                         BLDG_TYPE OWN_OCC  RES_UNITS  COM_UNITS  ...  \\\n",
       "0                     RE - Row End       Y          0          0  ...   \n",
       "1                  RM - Row Middle       Y          0          0  ...   \n",
       "2                  RM - Row Middle       N          0          0  ...   \n",
       "3                  RM - Row Middle       N          0          0  ...   \n",
       "4                     RE - Row End       Y          0          0  ...   \n",
       "...                            ...     ...        ...        ...  ...   \n",
       "178591          FS - Free Standing       N          1          0  ...   \n",
       "178592          FS - Free Standing       N          1          0  ...   \n",
       "178595           CV - Conventional       N          0          0  ...   \n",
       "178596  319 - STRIP RETAIL/ OFFICE       N          0          8  ...   \n",
       "178597   973 - ADMINISTRATIVE BLDG       N          0          0  ...   \n",
       "\n",
       "            BTHRM_STYLE3                 KITCHEN_TYPE   KITCHEN_STYLE1  \\\n",
       "0        S - Semi-Modern  3F - 3 Full Eat In Kitchens  S - Semi-Modern   \n",
       "1             M - Modern  3F - 3 Full Eat In Kitchens       M - Modern   \n",
       "2             M - Modern  3F - 3 Full Eat In Kitchens  S - Semi-Modern   \n",
       "3        S - Semi-Modern  3F - 3 Full Eat In Kitchens  S - Semi-Modern   \n",
       "4        S - Semi-Modern  2F - 2 Full Eat In Kitchens  S - Semi-Modern   \n",
       "...                  ...                          ...              ...   \n",
       "178591  NB - No Bathroom              F - Full Eat In  S - Semi-Modern   \n",
       "178592  NB - No Bathroom              F - Full Eat In  S - Semi-Modern   \n",
       "178595        M - Modern  2F - 2 Full Eat In Kitchens       M - Modern   \n",
       "178596  NB - No Bathroom                     N - None  NK - No Kitchen   \n",
       "178597  NB - No Bathroom                     N - None  NK - No Kitchen   \n",
       "\n",
       "         KITCHEN_STYLE2   KITCHEN_STYLE3           HEAT_TYPE         AC_TYPE  \\\n",
       "0       S - Semi-Modern  S - Semi-Modern  W - Ht Water/Steam        N - None   \n",
       "1            M - Modern       M - Modern  F - Forced Hot Air  C - Central AC   \n",
       "2       S - Semi-Modern  S - Semi-Modern      S - Space Heat        N - None   \n",
       "3       S - Semi-Modern  S - Semi-Modern  W - Ht Water/Steam        N - None   \n",
       "4       S - Semi-Modern  NK - No Kitchen  W - Ht Water/Steam        N - None   \n",
       "...                 ...              ...                 ...             ...   \n",
       "178591  NK - No Kitchen  NK - No Kitchen  W - Ht Water/Steam        N - None   \n",
       "178592  NK - No Kitchen  NK - No Kitchen  W - Ht Water/Steam        N - None   \n",
       "178595       M - Modern       M - Modern  W - Ht Water/Steam        N - None   \n",
       "178596  NK - No Kitchen  NK - No Kitchen         U - Unknown        N - None   \n",
       "178597  NK - No Kitchen  NK - No Kitchen         U - Unknown        N - None   \n",
       "\n",
       "       FIRE_PLACE  NUM_PARKING  CORNER_UNIT  \n",
       "0               0            3       N - No  \n",
       "1               0            0       N - No  \n",
       "2               0            0       N - No  \n",
       "3               0            0       N - No  \n",
       "4               0            0       N - No  \n",
       "...           ...          ...          ...  \n",
       "178591          1            1       N - No  \n",
       "178592          1            1       N - No  \n",
       "178595          0            2       N - No  \n",
       "178596          0            0       N - No  \n",
       "178597          0            0       N - No  \n",
       "\n",
       "[144007 rows x 43 columns]"
      ]
     },
     "execution_count": 76,
     "metadata": {},
     "output_type": "execute_result"
    }
   ],
   "source": [
    "cleaned"
   ]
  },
  {
   "cell_type": "markdown",
   "metadata": {},
   "source": [
    "There is one last thing to do. The prices are not formatted properly as machine-readble numbers, they are human-readable with commas in them. Those commas must be removed before doing any analysis."
   ]
  },
  {
   "cell_type": "code",
   "execution_count": 77,
   "metadata": {},
   "outputs": [
    {
     "data": {
      "text/plain": [
       "count     144007\n",
       "unique     24997\n",
       "top            0\n",
       "freq         260\n",
       "Name: BLDG_VALUE, dtype: object"
      ]
     },
     "execution_count": 77,
     "metadata": {},
     "output_type": "execute_result"
    }
   ],
   "source": [
    "cleaned[\"BLDG_VALUE\"].describe()"
   ]
  },
  {
   "cell_type": "markdown",
   "metadata": {},
   "source": [
    "These are the variables that must be reformatted:\n",
    "LAND_SF\n",
    "GROSS_AREA\n",
    "LIVING_AREA\n",
    "LAND_VALUE\n",
    "BLDG_VALUE\n",
    "TOTAL_VALUE\n",
    "GROSS_TAX"
   ]
  },
  {
   "cell_type": "code",
   "execution_count": 78,
   "metadata": {},
   "outputs": [
    {
     "name": "stderr",
     "output_type": "stream",
     "text": [
      "/tmp/ipykernel_1431/1914829922.py:8: FutureWarning: The default value of regex will change from True to False in a future version. In addition, single character regular expressions will *not* be treated as literal strings when regex=True.\n",
      "  cleaned[col] = cleaned[col].str.replace('$','')\n"
     ]
    },
    {
     "data": {
      "text/html": [
       "<div>\n",
       "<style scoped>\n",
       "    .dataframe tbody tr th:only-of-type {\n",
       "        vertical-align: middle;\n",
       "    }\n",
       "\n",
       "    .dataframe tbody tr th {\n",
       "        vertical-align: top;\n",
       "    }\n",
       "\n",
       "    .dataframe thead th {\n",
       "        text-align: right;\n",
       "    }\n",
       "</style>\n",
       "<table border=\"1\" class=\"dataframe\">\n",
       "  <thead>\n",
       "    <tr style=\"text-align: right;\">\n",
       "      <th></th>\n",
       "      <th>LAND_VALUE</th>\n",
       "      <th>BLDG_VALUE</th>\n",
       "      <th>TOTAL_VALUE</th>\n",
       "      <th>GROSS_TAX</th>\n",
       "    </tr>\n",
       "  </thead>\n",
       "  <tbody>\n",
       "    <tr>\n",
       "      <th>0</th>\n",
       "      <td>179500</td>\n",
       "      <td>539900</td>\n",
       "      <td>719400</td>\n",
       "      <td>7827.07</td>\n",
       "    </tr>\n",
       "    <tr>\n",
       "      <th>1</th>\n",
       "      <td>180300</td>\n",
       "      <td>564500</td>\n",
       "      <td>744800</td>\n",
       "      <td>8103.42</td>\n",
       "    </tr>\n",
       "    <tr>\n",
       "      <th>2</th>\n",
       "      <td>180800</td>\n",
       "      <td>549700</td>\n",
       "      <td>730500</td>\n",
       "      <td>7947.84</td>\n",
       "    </tr>\n",
       "    <tr>\n",
       "      <th>3</th>\n",
       "      <td>181400</td>\n",
       "      <td>486500</td>\n",
       "      <td>667900</td>\n",
       "      <td>7266.75</td>\n",
       "    </tr>\n",
       "    <tr>\n",
       "      <th>4</th>\n",
       "      <td>210900</td>\n",
       "      <td>531800</td>\n",
       "      <td>742700</td>\n",
       "      <td>8080.57</td>\n",
       "    </tr>\n",
       "    <tr>\n",
       "      <th>...</th>\n",
       "      <td>...</td>\n",
       "      <td>...</td>\n",
       "      <td>...</td>\n",
       "      <td>...</td>\n",
       "    </tr>\n",
       "    <tr>\n",
       "      <th>178591</th>\n",
       "      <td>0</td>\n",
       "      <td>519200</td>\n",
       "      <td>519200</td>\n",
       "      <td>5648.90</td>\n",
       "    </tr>\n",
       "    <tr>\n",
       "      <th>178592</th>\n",
       "      <td>0</td>\n",
       "      <td>471200</td>\n",
       "      <td>471200</td>\n",
       "      <td>5126.66</td>\n",
       "    </tr>\n",
       "    <tr>\n",
       "      <th>178595</th>\n",
       "      <td>442300</td>\n",
       "      <td>810000</td>\n",
       "      <td>1252300</td>\n",
       "      <td>13625.02</td>\n",
       "    </tr>\n",
       "    <tr>\n",
       "      <th>178596</th>\n",
       "      <td>990900</td>\n",
       "      <td>1426600</td>\n",
       "      <td>2427000</td>\n",
       "      <td>60626.46</td>\n",
       "    </tr>\n",
       "    <tr>\n",
       "      <th>178597</th>\n",
       "      <td>2138600</td>\n",
       "      <td>1067700</td>\n",
       "      <td>3213800</td>\n",
       "      <td>0.00</td>\n",
       "    </tr>\n",
       "  </tbody>\n",
       "</table>\n",
       "<p>144007 rows × 4 columns</p>\n",
       "</div>"
      ],
      "text/plain": [
       "        LAND_VALUE  BLDG_VALUE  TOTAL_VALUE  GROSS_TAX\n",
       "0           179500      539900       719400    7827.07\n",
       "1           180300      564500       744800    8103.42\n",
       "2           180800      549700       730500    7947.84\n",
       "3           181400      486500       667900    7266.75\n",
       "4           210900      531800       742700    8080.57\n",
       "...            ...         ...          ...        ...\n",
       "178591           0      519200       519200    5648.90\n",
       "178592           0      471200       471200    5126.66\n",
       "178595      442300      810000      1252300   13625.02\n",
       "178596      990900     1426600      2427000   60626.46\n",
       "178597     2138600     1067700      3213800       0.00\n",
       "\n",
       "[144007 rows x 4 columns]"
      ]
     },
     "execution_count": 78,
     "metadata": {},
     "output_type": "execute_result"
    }
   ],
   "source": [
    "columns_to_fix = [\"LAND_VALUE\",\"BLDG_VALUE\",\"TOTAL_VALUE\",\"GROSS_TAX\"]\n",
    "#cleaned[columns_to_fix].astype(str).replace(\",\",\"\")\n",
    "#pd.to_numeric(cleaned[columns_to_fix],errors='coerce')\n",
    "#cleaned[columns_to_fix].filter(like=\"num\").apply(lambda x: x.str.replace('^[0-9.]',''))\n",
    "#cleaned.apply(lambda x: x.astype(str).replace(',','').astype(float))\n",
    "for col in columns_to_fix:\n",
    "  cleaned[col] = cleaned[col].str.replace(',','')\n",
    "  cleaned[col] = cleaned[col].str.replace('$','')\n",
    "  cleaned[col] = pd.to_numeric(cleaned[col],errors='coerce')\n",
    "cleaned[columns_to_fix]\n",
    "#data[\"TOTAL_VALUE\"] = data[\"TOTAL_VALUE\"].str.replace(',','')\n",
    "#data[\"TOTAL_VALUE\"] = pd.to_numeric(data[\"TOTAL_VALUE\"],errors='coerce')"
   ]
  },
  {
   "cell_type": "code",
   "execution_count": 86,
   "metadata": {},
   "outputs": [
    {
     "data": {
      "text/plain": [
       "count    1.440070e+05\n",
       "mean     1.585295e+06\n",
       "std      1.408356e+07\n",
       "min      0.000000e+00\n",
       "25%      4.716000e+05\n",
       "50%      6.474000e+05\n",
       "75%      9.358000e+05\n",
       "max      2.020459e+09\n",
       "Name: TOTAL_VALUE, dtype: float64"
      ]
     },
     "execution_count": 86,
     "metadata": {},
     "output_type": "execute_result"
    }
   ],
   "source": [
    "cleaned[\"TOTAL_VALUE\"].describe()"
   ]
  },
  {
   "cell_type": "code",
   "execution_count": 82,
   "metadata": {},
   "outputs": [
    {
     "data": {
      "text/plain": [
       "count    1.440070e+05\n",
       "mean     3.905115e+05\n",
       "std      4.467598e+06\n",
       "min      0.000000e+00\n",
       "25%      0.000000e+00\n",
       "50%      1.183000e+05\n",
       "75%      2.236000e+05\n",
       "max      4.860469e+08\n",
       "Name: LAND_VALUE, dtype: float64"
      ]
     },
     "execution_count": 82,
     "metadata": {},
     "output_type": "execute_result"
    }
   ],
   "source": [
    "cleaned[\"LAND_VALUE\"].describe()"
   ]
  },
  {
   "cell_type": "code",
   "execution_count": 83,
   "metadata": {},
   "outputs": [
    {
     "data": {
      "text/plain": [
       "count    1.440070e+05\n",
       "mean     1.192055e+06\n",
       "std      1.036641e+07\n",
       "min      0.000000e+00\n",
       "25%      3.761000e+05\n",
       "50%      5.250000e+05\n",
       "75%      7.729000e+05\n",
       "max      1.600662e+09\n",
       "Name: BLDG_VALUE, dtype: float64"
      ]
     },
     "execution_count": 83,
     "metadata": {},
     "output_type": "execute_result"
    }
   ],
   "source": [
    "cleaned[\"BLDG_VALUE\"].describe()"
   ]
  },
  {
   "cell_type": "code",
   "execution_count": 87,
   "metadata": {},
   "outputs": [
    {
     "data": {
      "text/html": [
       "<div>\n",
       "<style scoped>\n",
       "    .dataframe tbody tr th:only-of-type {\n",
       "        vertical-align: middle;\n",
       "    }\n",
       "\n",
       "    .dataframe tbody tr th {\n",
       "        vertical-align: top;\n",
       "    }\n",
       "\n",
       "    .dataframe thead th {\n",
       "        text-align: right;\n",
       "    }\n",
       "</style>\n",
       "<table border=\"1\" class=\"dataframe\">\n",
       "  <thead>\n",
       "    <tr style=\"text-align: right;\">\n",
       "      <th></th>\n",
       "      <th>PID</th>\n",
       "      <th>ST_NUM</th>\n",
       "      <th>ST_NAME</th>\n",
       "      <th>ZIPCODE</th>\n",
       "      <th>NUM_BLDGS</th>\n",
       "      <th>LU</th>\n",
       "      <th>BLDG_TYPE</th>\n",
       "      <th>OWN_OCC</th>\n",
       "      <th>RES_UNITS</th>\n",
       "      <th>COM_UNITS</th>\n",
       "      <th>...</th>\n",
       "      <th>BTHRM_STYLE3</th>\n",
       "      <th>KITCHEN_TYPE</th>\n",
       "      <th>KITCHEN_STYLE1</th>\n",
       "      <th>KITCHEN_STYLE2</th>\n",
       "      <th>KITCHEN_STYLE3</th>\n",
       "      <th>HEAT_TYPE</th>\n",
       "      <th>AC_TYPE</th>\n",
       "      <th>FIRE_PLACE</th>\n",
       "      <th>NUM_PARKING</th>\n",
       "      <th>CORNER_UNIT</th>\n",
       "    </tr>\n",
       "  </thead>\n",
       "  <tbody>\n",
       "    <tr>\n",
       "      <th>0</th>\n",
       "      <td>100001000</td>\n",
       "      <td>104 A 104</td>\n",
       "      <td>PUTNAM ST</td>\n",
       "      <td>2128</td>\n",
       "      <td>1</td>\n",
       "      <td>R3</td>\n",
       "      <td>RE - Row End</td>\n",
       "      <td>Y</td>\n",
       "      <td>0</td>\n",
       "      <td>0</td>\n",
       "      <td>...</td>\n",
       "      <td>S - Semi-Modern</td>\n",
       "      <td>3F - 3 Full Eat In Kitchens</td>\n",
       "      <td>S - Semi-Modern</td>\n",
       "      <td>S - Semi-Modern</td>\n",
       "      <td>S - Semi-Modern</td>\n",
       "      <td>W - Ht Water/Steam</td>\n",
       "      <td>N - None</td>\n",
       "      <td>0</td>\n",
       "      <td>3</td>\n",
       "      <td>N - No</td>\n",
       "    </tr>\n",
       "    <tr>\n",
       "      <th>1</th>\n",
       "      <td>100002000</td>\n",
       "      <td>197</td>\n",
       "      <td>LEXINGTON ST</td>\n",
       "      <td>2128</td>\n",
       "      <td>1</td>\n",
       "      <td>R3</td>\n",
       "      <td>RM - Row Middle</td>\n",
       "      <td>Y</td>\n",
       "      <td>0</td>\n",
       "      <td>0</td>\n",
       "      <td>...</td>\n",
       "      <td>M - Modern</td>\n",
       "      <td>3F - 3 Full Eat In Kitchens</td>\n",
       "      <td>M - Modern</td>\n",
       "      <td>M - Modern</td>\n",
       "      <td>M - Modern</td>\n",
       "      <td>F - Forced Hot Air</td>\n",
       "      <td>C - Central AC</td>\n",
       "      <td>0</td>\n",
       "      <td>0</td>\n",
       "      <td>N - No</td>\n",
       "    </tr>\n",
       "    <tr>\n",
       "      <th>2</th>\n",
       "      <td>100003000</td>\n",
       "      <td>199</td>\n",
       "      <td>LEXINGTON ST</td>\n",
       "      <td>2128</td>\n",
       "      <td>1</td>\n",
       "      <td>R3</td>\n",
       "      <td>RM - Row Middle</td>\n",
       "      <td>N</td>\n",
       "      <td>0</td>\n",
       "      <td>0</td>\n",
       "      <td>...</td>\n",
       "      <td>M - Modern</td>\n",
       "      <td>3F - 3 Full Eat In Kitchens</td>\n",
       "      <td>S - Semi-Modern</td>\n",
       "      <td>S - Semi-Modern</td>\n",
       "      <td>S - Semi-Modern</td>\n",
       "      <td>S - Space Heat</td>\n",
       "      <td>N - None</td>\n",
       "      <td>0</td>\n",
       "      <td>0</td>\n",
       "      <td>N - No</td>\n",
       "    </tr>\n",
       "    <tr>\n",
       "      <th>3</th>\n",
       "      <td>100004000</td>\n",
       "      <td>201</td>\n",
       "      <td>LEXINGTON ST</td>\n",
       "      <td>2128</td>\n",
       "      <td>1</td>\n",
       "      <td>R3</td>\n",
       "      <td>RM - Row Middle</td>\n",
       "      <td>N</td>\n",
       "      <td>0</td>\n",
       "      <td>0</td>\n",
       "      <td>...</td>\n",
       "      <td>S - Semi-Modern</td>\n",
       "      <td>3F - 3 Full Eat In Kitchens</td>\n",
       "      <td>S - Semi-Modern</td>\n",
       "      <td>S - Semi-Modern</td>\n",
       "      <td>S - Semi-Modern</td>\n",
       "      <td>W - Ht Water/Steam</td>\n",
       "      <td>N - None</td>\n",
       "      <td>0</td>\n",
       "      <td>0</td>\n",
       "      <td>N - No</td>\n",
       "    </tr>\n",
       "    <tr>\n",
       "      <th>4</th>\n",
       "      <td>100005000</td>\n",
       "      <td>203</td>\n",
       "      <td>LEXINGTON ST</td>\n",
       "      <td>2128</td>\n",
       "      <td>1</td>\n",
       "      <td>R2</td>\n",
       "      <td>RE - Row End</td>\n",
       "      <td>Y</td>\n",
       "      <td>0</td>\n",
       "      <td>0</td>\n",
       "      <td>...</td>\n",
       "      <td>S - Semi-Modern</td>\n",
       "      <td>2F - 2 Full Eat In Kitchens</td>\n",
       "      <td>S - Semi-Modern</td>\n",
       "      <td>S - Semi-Modern</td>\n",
       "      <td>NK - No Kitchen</td>\n",
       "      <td>W - Ht Water/Steam</td>\n",
       "      <td>N - None</td>\n",
       "      <td>0</td>\n",
       "      <td>0</td>\n",
       "      <td>N - No</td>\n",
       "    </tr>\n",
       "    <tr>\n",
       "      <th>...</th>\n",
       "      <td>...</td>\n",
       "      <td>...</td>\n",
       "      <td>...</td>\n",
       "      <td>...</td>\n",
       "      <td>...</td>\n",
       "      <td>...</td>\n",
       "      <td>...</td>\n",
       "      <td>...</td>\n",
       "      <td>...</td>\n",
       "      <td>...</td>\n",
       "      <td>...</td>\n",
       "      <td>...</td>\n",
       "      <td>...</td>\n",
       "      <td>...</td>\n",
       "      <td>...</td>\n",
       "      <td>...</td>\n",
       "      <td>...</td>\n",
       "      <td>...</td>\n",
       "      <td>...</td>\n",
       "      <td>...</td>\n",
       "      <td>...</td>\n",
       "    </tr>\n",
       "    <tr>\n",
       "      <th>178591</th>\n",
       "      <td>2205665002</td>\n",
       "      <td>14</td>\n",
       "      <td>LAKE ST</td>\n",
       "      <td>2135</td>\n",
       "      <td>1</td>\n",
       "      <td>CD</td>\n",
       "      <td>FS - Free Standing</td>\n",
       "      <td>N</td>\n",
       "      <td>1</td>\n",
       "      <td>0</td>\n",
       "      <td>...</td>\n",
       "      <td>NB - No Bathroom</td>\n",
       "      <td>F - Full Eat In</td>\n",
       "      <td>S - Semi-Modern</td>\n",
       "      <td>NK - No Kitchen</td>\n",
       "      <td>NK - No Kitchen</td>\n",
       "      <td>W - Ht Water/Steam</td>\n",
       "      <td>N - None</td>\n",
       "      <td>1</td>\n",
       "      <td>1</td>\n",
       "      <td>N - No</td>\n",
       "    </tr>\n",
       "    <tr>\n",
       "      <th>178592</th>\n",
       "      <td>2205665004</td>\n",
       "      <td>12</td>\n",
       "      <td>LAKE ST</td>\n",
       "      <td>2135</td>\n",
       "      <td>1</td>\n",
       "      <td>CD</td>\n",
       "      <td>FS - Free Standing</td>\n",
       "      <td>N</td>\n",
       "      <td>1</td>\n",
       "      <td>0</td>\n",
       "      <td>...</td>\n",
       "      <td>NB - No Bathroom</td>\n",
       "      <td>F - Full Eat In</td>\n",
       "      <td>S - Semi-Modern</td>\n",
       "      <td>NK - No Kitchen</td>\n",
       "      <td>NK - No Kitchen</td>\n",
       "      <td>W - Ht Water/Steam</td>\n",
       "      <td>N - None</td>\n",
       "      <td>1</td>\n",
       "      <td>1</td>\n",
       "      <td>N - No</td>\n",
       "    </tr>\n",
       "    <tr>\n",
       "      <th>178595</th>\n",
       "      <td>2205668000</td>\n",
       "      <td>4</td>\n",
       "      <td>LAKE ST</td>\n",
       "      <td>2135</td>\n",
       "      <td>1</td>\n",
       "      <td>R3</td>\n",
       "      <td>CV - Conventional</td>\n",
       "      <td>N</td>\n",
       "      <td>0</td>\n",
       "      <td>0</td>\n",
       "      <td>...</td>\n",
       "      <td>M - Modern</td>\n",
       "      <td>2F - 2 Full Eat In Kitchens</td>\n",
       "      <td>M - Modern</td>\n",
       "      <td>M - Modern</td>\n",
       "      <td>M - Modern</td>\n",
       "      <td>W - Ht Water/Steam</td>\n",
       "      <td>N - None</td>\n",
       "      <td>0</td>\n",
       "      <td>2</td>\n",
       "      <td>N - No</td>\n",
       "    </tr>\n",
       "    <tr>\n",
       "      <th>178596</th>\n",
       "      <td>2205669000</td>\n",
       "      <td>2193  2201</td>\n",
       "      <td>COMMONWEALTH AV</td>\n",
       "      <td>2135</td>\n",
       "      <td>1</td>\n",
       "      <td>C</td>\n",
       "      <td>319 - STRIP RETAIL/ OFFICE</td>\n",
       "      <td>N</td>\n",
       "      <td>0</td>\n",
       "      <td>8</td>\n",
       "      <td>...</td>\n",
       "      <td>NB - No Bathroom</td>\n",
       "      <td>N - None</td>\n",
       "      <td>NK - No Kitchen</td>\n",
       "      <td>NK - No Kitchen</td>\n",
       "      <td>NK - No Kitchen</td>\n",
       "      <td>U - Unknown</td>\n",
       "      <td>N - None</td>\n",
       "      <td>0</td>\n",
       "      <td>0</td>\n",
       "      <td>N - No</td>\n",
       "    </tr>\n",
       "    <tr>\n",
       "      <th>178597</th>\n",
       "      <td>2205670000</td>\n",
       "      <td>2203</td>\n",
       "      <td>COMMONWEALTH AV</td>\n",
       "      <td>2135</td>\n",
       "      <td>3</td>\n",
       "      <td>E</td>\n",
       "      <td>973 - ADMINISTRATIVE BLDG</td>\n",
       "      <td>N</td>\n",
       "      <td>0</td>\n",
       "      <td>0</td>\n",
       "      <td>...</td>\n",
       "      <td>NB - No Bathroom</td>\n",
       "      <td>N - None</td>\n",
       "      <td>NK - No Kitchen</td>\n",
       "      <td>NK - No Kitchen</td>\n",
       "      <td>NK - No Kitchen</td>\n",
       "      <td>U - Unknown</td>\n",
       "      <td>N - None</td>\n",
       "      <td>0</td>\n",
       "      <td>0</td>\n",
       "      <td>N - No</td>\n",
       "    </tr>\n",
       "  </tbody>\n",
       "</table>\n",
       "<p>144007 rows × 43 columns</p>\n",
       "</div>"
      ],
      "text/plain": [
       "               PID      ST_NUM          ST_NAME  ZIPCODE  NUM_BLDGS  LU  \\\n",
       "0        100001000  104 A 104         PUTNAM ST     2128          1  R3   \n",
       "1        100002000       197       LEXINGTON ST     2128          1  R3   \n",
       "2        100003000       199       LEXINGTON ST     2128          1  R3   \n",
       "3        100004000       201       LEXINGTON ST     2128          1  R3   \n",
       "4        100005000       203       LEXINGTON ST     2128          1  R2   \n",
       "...            ...         ...              ...      ...        ...  ..   \n",
       "178591  2205665002        14            LAKE ST     2135          1  CD   \n",
       "178592  2205665004        12            LAKE ST     2135          1  CD   \n",
       "178595  2205668000         4            LAKE ST     2135          1  R3   \n",
       "178596  2205669000  2193  2201  COMMONWEALTH AV     2135          1   C   \n",
       "178597  2205670000      2203    COMMONWEALTH AV     2135          3   E   \n",
       "\n",
       "                         BLDG_TYPE OWN_OCC  RES_UNITS  COM_UNITS  ...  \\\n",
       "0                     RE - Row End       Y          0          0  ...   \n",
       "1                  RM - Row Middle       Y          0          0  ...   \n",
       "2                  RM - Row Middle       N          0          0  ...   \n",
       "3                  RM - Row Middle       N          0          0  ...   \n",
       "4                     RE - Row End       Y          0          0  ...   \n",
       "...                            ...     ...        ...        ...  ...   \n",
       "178591          FS - Free Standing       N          1          0  ...   \n",
       "178592          FS - Free Standing       N          1          0  ...   \n",
       "178595           CV - Conventional       N          0          0  ...   \n",
       "178596  319 - STRIP RETAIL/ OFFICE       N          0          8  ...   \n",
       "178597   973 - ADMINISTRATIVE BLDG       N          0          0  ...   \n",
       "\n",
       "            BTHRM_STYLE3                 KITCHEN_TYPE   KITCHEN_STYLE1  \\\n",
       "0        S - Semi-Modern  3F - 3 Full Eat In Kitchens  S - Semi-Modern   \n",
       "1             M - Modern  3F - 3 Full Eat In Kitchens       M - Modern   \n",
       "2             M - Modern  3F - 3 Full Eat In Kitchens  S - Semi-Modern   \n",
       "3        S - Semi-Modern  3F - 3 Full Eat In Kitchens  S - Semi-Modern   \n",
       "4        S - Semi-Modern  2F - 2 Full Eat In Kitchens  S - Semi-Modern   \n",
       "...                  ...                          ...              ...   \n",
       "178591  NB - No Bathroom              F - Full Eat In  S - Semi-Modern   \n",
       "178592  NB - No Bathroom              F - Full Eat In  S - Semi-Modern   \n",
       "178595        M - Modern  2F - 2 Full Eat In Kitchens       M - Modern   \n",
       "178596  NB - No Bathroom                     N - None  NK - No Kitchen   \n",
       "178597  NB - No Bathroom                     N - None  NK - No Kitchen   \n",
       "\n",
       "         KITCHEN_STYLE2   KITCHEN_STYLE3           HEAT_TYPE         AC_TYPE  \\\n",
       "0       S - Semi-Modern  S - Semi-Modern  W - Ht Water/Steam        N - None   \n",
       "1            M - Modern       M - Modern  F - Forced Hot Air  C - Central AC   \n",
       "2       S - Semi-Modern  S - Semi-Modern      S - Space Heat        N - None   \n",
       "3       S - Semi-Modern  S - Semi-Modern  W - Ht Water/Steam        N - None   \n",
       "4       S - Semi-Modern  NK - No Kitchen  W - Ht Water/Steam        N - None   \n",
       "...                 ...              ...                 ...             ...   \n",
       "178591  NK - No Kitchen  NK - No Kitchen  W - Ht Water/Steam        N - None   \n",
       "178592  NK - No Kitchen  NK - No Kitchen  W - Ht Water/Steam        N - None   \n",
       "178595       M - Modern       M - Modern  W - Ht Water/Steam        N - None   \n",
       "178596  NK - No Kitchen  NK - No Kitchen         U - Unknown        N - None   \n",
       "178597  NK - No Kitchen  NK - No Kitchen         U - Unknown        N - None   \n",
       "\n",
       "        FIRE_PLACE  NUM_PARKING  CORNER_UNIT  \n",
       "0                0            3       N - No  \n",
       "1                0            0       N - No  \n",
       "2                0            0       N - No  \n",
       "3                0            0       N - No  \n",
       "4                0            0       N - No  \n",
       "...            ...          ...          ...  \n",
       "178591           1            1       N - No  \n",
       "178592           1            1       N - No  \n",
       "178595           0            2       N - No  \n",
       "178596           0            0       N - No  \n",
       "178597           0            0       N - No  \n",
       "\n",
       "[144007 rows x 43 columns]"
      ]
     },
     "execution_count": 87,
     "metadata": {},
     "output_type": "execute_result"
    }
   ],
   "source": [
    "cleaned"
   ]
  },
  {
   "cell_type": "markdown",
   "metadata": {},
   "source": [
    "This data is now ready for analysis!"
   ]
  }
 ],
 "metadata": {
  "kernelspec": {
   "display_name": "Python 3.8.10 64-bit",
   "language": "python",
   "name": "python3"
  },
  "language_info": {
   "codemirror_mode": {
    "name": "ipython",
    "version": 3
   },
   "file_extension": ".py",
   "mimetype": "text/x-python",
   "name": "python",
   "nbconvert_exporter": "python",
   "pygments_lexer": "ipython3",
   "version": "3.8.10"
  },
  "orig_nbformat": 4,
  "vscode": {
   "interpreter": {
    "hash": "e7370f93d1d0cde622a1f8e1c04877d8463912d04d973331ad4851f04de6915a"
   }
  }
 },
 "nbformat": 4,
 "nbformat_minor": 2
}
